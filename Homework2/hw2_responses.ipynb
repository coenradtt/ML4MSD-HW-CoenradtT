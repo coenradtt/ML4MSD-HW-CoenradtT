{
 "cells": [
  {
   "cell_type": "code",
   "execution_count": null,
   "id": "fa6d3a0b",
   "metadata": {},
   "outputs": [],
   "source": [
    "hi"
   ]
  }
 ],
 "metadata": {
  "language_info": {
   "name": "python"
  }
 },
 "nbformat": 4,
 "nbformat_minor": 5
}

{
 "cells": [
  {
   "cell_type": "markdown",
   "id": "796a38b0",
   "metadata": {},
   "source": [
    "# Assignment 1"
   ]
  },
  {
   "cell_type": "markdown",
   "id": "95c56016",
   "metadata": {},
   "source": [
    "General Structure\n",
    "\n",
    "    Parameters\n",
    "    ----------\n",
    "    A : str\n",
    "        Element at the cube corners (A-site).\n",
    "    B : str\n",
    "        Element at the body center (B-site).\n",
    "    c_to_a_ratio : float\n",
    "        Ratio of c/a for the tetragonal phase.\n",
    "    save_cifs : bool, optional\n",
    "        If True, saves both structures as CIF files.\n",
    "    show_widgets : bool, optional\n",
    "        If True, displays 3D interactive structures using StructureWidget.\n",
    "\n",
    "    Returns\n",
    "    -------\n",
    "    tuple[Structure, Structure]\n",
    "        (cubic_perovskite, tetragonal_perovskite)\n",
    "\n"
   ]
  },
  {
   "cell_type": "code",
   "execution_count": 26,
   "id": "696200e8",
   "metadata": {},
   "outputs": [
    {
     "name": "stdout",
     "output_type": "stream",
     "text": [
      "Cubic space group: Pm-3m\n",
      "Tetragonal space group: P4/mmm\n",
      "CIF files saved = YES\n"
     ]
    }
   ],
   "source": [
    "from pymatgen.core import Lattice, Structure\n",
    "from pymatgen.symmetry.analyzer import SpacegroupAnalyzer\n",
    "from pymatviz.widgets.structure import StructureWidget\n",
    "\n",
    "#c_to_a_ratio=1.3\n",
    "def generate_perovskites(A: str, B: str, c_to_a_ratio: float, save_cifs: bool = True, show_widgets: bool = True):\n",
    "    # --- 1. Define lattice constants ---\n",
    "    a = 4.0\n",
    "    c = a * c_to_a_ratio\n",
    "\n",
    "    # --- 2. Atomic positions ---\n",
    "    frac_coords = [\n",
    "        (0, 0, 0),               # A-site\n",
    "        (0.5, 0.5, 0.5),         # B-site\n",
    "        (0.5, 0.5, 0),           # O1\n",
    "        (0.5, 0, 0.5),           # O2\n",
    "        (0, 0.5, 0.5)            # O3\n",
    "    ]\n",
    "    species = [A, B, \"O\", \"O\", \"O\"]\n",
    "\n",
    "    # --- 3. Create structures ---\n",
    "    cubic = Structure(Lattice.cubic(a), species, frac_coords)\n",
    "    tetragonal = Structure(Lattice.tetragonal(a, c), species, frac_coords)\n",
    "\n",
    "    # --- 4. Space group analysis ---\n",
    "    cubic_sg = SpacegroupAnalyzer(cubic).get_space_group_symbol()\n",
    "    tetragonal_sg = SpacegroupAnalyzer(tetragonal).get_space_group_symbol()\n",
    "\n",
    "    print(f\"Cubic space group: {cubic_sg}\")\n",
    "    print(f\"Tetragonal space group: {tetragonal_sg}\")\n",
    "\n",
    "    # --- 5. Save CIFs ---\n",
    "    if save_cifs:\n",
    "        cubic.to(fmt=\"cif\", filename=f\"{A}{B}O3_cubic.cif\")\n",
    "        tetragonal.to(fmt=\"cif\", filename=f\"{A}{B}O3_tetragonal.cif\")\n",
    "        print(\"CIF files saved = YES\")\n",
    "\n",
    "    return cubic, tetragonal\n",
    "\n",
    "\n",
    "# EDITABLE PARAMETERS\n",
    "# Able to change elements, c/a ratio, and whether to save .cif files\n",
    "cperov, tperov = generate_perovskites(\"Ba\", \"Ti\", 1.3, save_cifs=True, show_widgets=True)\n"
   ]
  },
  {
   "cell_type": "code",
   "execution_count": 29,
   "id": "179681a4",
   "metadata": {},
   "outputs": [
    {
     "name": "stdout",
     "output_type": "stream",
     "text": [
      "🟩 Cubic Perovskite:\n"
     ]
    },
    {
     "data": {
      "application/vnd.jupyter.widget-view+json": {
       "model_id": "2650726ba55e4ca5ba55f1418119d571",
       "version_major": 2,
       "version_minor": 1
      },
      "text/plain": [
       "StructureWidget(structure={'@module': 'pymatgen.core.structure', '@class': 'Structure', 'charge': 0.0, 'lattic…"
      ]
     },
     "metadata": {},
     "output_type": "display_data"
    },
    {
     "name": "stdout",
     "output_type": "stream",
     "text": [
      "⬛ Tetragonal Perovskite:\n"
     ]
    },
    {
     "data": {
      "application/vnd.jupyter.widget-view+json": {
       "model_id": "f350785e47b14a55ba95bf9444a091b6",
       "version_major": 2,
       "version_minor": 1
      },
      "text/plain": [
       "StructureWidget(structure={'@module': 'pymatgen.core.structure', '@class': 'Structure', 'charge': 0.0, 'lattic…"
      ]
     },
     "metadata": {},
     "output_type": "display_data"
    }
   ],
   "source": [
    "from IPython.display import display\n",
    "from pymatviz.widgets.structure import StructureWidget\n",
    "\n",
    "print(\"🟩 Cubic Perovskite:\")\n",
    "display(StructureWidget(cperov))\n",
    "\n",
    "print(\"⬛ Tetragonal Perovskite:\")\n",
    "display(StructureWidget(tperov))"
   ]
  },
  {
   "cell_type": "markdown",
   "id": "b1088f09",
   "metadata": {},
   "source": [
    "#### **It appears as though the .cif files saved correctly.** \n",
    "\n",
    "#### The only differece between them is the **cell length c**, which should be the correct difference between the cubic and tetregonal structures.\n",
    "\n",
    "#### Also, I wanted to print the cell structure using structure widget, for some reason only the **tetragonal** image appears but **not** the cubic. I do not know why at all"
   ]
  },
  {
   "cell_type": "markdown",
   "id": "4c63c472",
   "metadata": {},
   "source": [
    "# Assignment 2"
   ]
  },
  {
   "cell_type": "code",
   "execution_count": 35,
   "id": "10cf5c69",
   "metadata": {},
   "outputs": [
    {
     "ename": "ModuleNotFoundError",
     "evalue": "No module named 'mp_api'",
     "output_type": "error",
     "traceback": [
      "\u001b[0;31m---------------------------------------------------------------------------\u001b[0m",
      "\u001b[0;31mModuleNotFoundError\u001b[0m                       Traceback (most recent call last)",
      "Cell \u001b[0;32mIn[35], line 1\u001b[0m\n\u001b[0;32m----> 1\u001b[0m \u001b[38;5;28;01mfrom\u001b[39;00m \u001b[38;5;21;01mmp_api\u001b[39;00m\u001b[38;5;21;01m.\u001b[39;00m\u001b[38;5;21;01mclient\u001b[39;00m \u001b[38;5;28;01mimport\u001b[39;00m MPRester\n\u001b[1;32m      2\u001b[0m \u001b[38;5;28;01mfrom\u001b[39;00m \u001b[38;5;21;01memmet\u001b[39;00m\u001b[38;5;21;01m.\u001b[39;00m\u001b[38;5;21;01mcore\u001b[39;00m\u001b[38;5;21;01m.\u001b[39;00m\u001b[38;5;21;01msymmetry\u001b[39;00m \u001b[38;5;28;01mimport\u001b[39;00m CrystalSystem\n\u001b[1;32m      3\u001b[0m \u001b[38;5;28;01mfrom\u001b[39;00m \u001b[38;5;21;01memmet\u001b[39;00m\u001b[38;5;21;01m.\u001b[39;00m\u001b[38;5;21;01mcore\u001b[39;00m\u001b[38;5;21;01m.\u001b[39;00m\u001b[38;5;21;01mmpid\u001b[39;00m \u001b[38;5;28;01mimport\u001b[39;00m MPID\n",
      "\u001b[0;31mModuleNotFoundError\u001b[0m: No module named 'mp_api'"
     ]
    }
   ],
   "source": [
    "from mp_api.client import MPRester\n",
    "from emmet.core.symmetry import CrystalSystem\n",
    "from emmet.core.mpid import MPID\n",
    "import matplotlib.pyplot as plt\n",
    "from pymatviz.widgets.structure import StructureWidget\n",
    "import pandas as pd"
   ]
  },
  {
   "cell_type": "code",
   "execution_count": 32,
   "id": "5877ae46",
   "metadata": {},
   "outputs": [
    {
     "ename": "ModuleNotFoundError",
     "evalue": "No module named 'mp_api'",
     "output_type": "error",
     "traceback": [
      "\u001b[0;31m---------------------------------------------------------------------------\u001b[0m",
      "\u001b[0;31mModuleNotFoundError\u001b[0m                       Traceback (most recent call last)",
      "Cell \u001b[0;32mIn[32], line 1\u001b[0m\n\u001b[0;32m----> 1\u001b[0m \u001b[38;5;28;01mfrom\u001b[39;00m \u001b[38;5;21;01mmp_api\u001b[39;00m\u001b[38;5;21;01m.\u001b[39;00m\u001b[38;5;21;01mclient\u001b[39;00m \u001b[38;5;28;01mimport\u001b[39;00m MPRester\n\u001b[1;32m      2\u001b[0m API_KEY \u001b[38;5;241m=\u001b[39m \u001b[38;5;124m\"\u001b[39m\u001b[38;5;124m5b2toNu5RX6WD7M8QREXXnGVb0C0WpEv\u001b[39m\u001b[38;5;124m\"\u001b[39m\n\u001b[1;32m      3\u001b[0m \u001b[38;5;28;01mwith\u001b[39;00m MPRester(API_KEY) \u001b[38;5;28;01mas\u001b[39;00m mpr:\n",
      "\u001b[0;31mModuleNotFoundError\u001b[0m: No module named 'mp_api'"
     ]
    }
   ],
   "source": [
    "from mp_api.client import MPRester\n",
    "API_KEY = \"5b2toNu5RX6WD7M8QREXXnGVb0C0WpEv\"\n",
    "with MPRester(API_KEY) as mpr:\n",
    "    docs = mpr.materials.summary.search(\n",
    "        is_metal=False,\n",
    "        theoretical=False,\n",
    "        fields=[\"material_id\", \"band_gap\", \"symmetry\", \"is_gap_direct\"]\n",
    "    )\n",
    "    data = docs  # list of summary documents\n"
   ]
  },
  {
   "cell_type": "code",
   "execution_count": null,
   "id": "cd7c6f36",
   "metadata": {},
   "outputs": [],
   "source": []
  }
 ],
 "metadata": {
  "kernelspec": {
   "display_name": "chme6320",
   "language": "python",
   "name": "python3"
  },
  "language_info": {
   "codemirror_mode": {
    "name": "ipython",
    "version": 3
   },
   "file_extension": ".py",
   "mimetype": "text/x-python",
   "name": "python",
   "nbconvert_exporter": "python",
   "pygments_lexer": "ipython3",
   "version": "3.11.9"
  }
 },
 "nbformat": 4,
 "nbformat_minor": 5
}

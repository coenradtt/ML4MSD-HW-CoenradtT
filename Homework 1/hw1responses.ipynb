{
 "cells": [
  {
   "cell_type": "markdown",
   "id": "1e55b2a3",
   "metadata": {},
   "source": [
    "### Coenradt Taylor"
   ]
  },
  {
   "cell_type": "markdown",
   "id": "3bc46eb2",
   "metadata": {},
   "source": [
    "## Question 1:"
   ]
  },
  {
   "cell_type": "code",
   "execution_count": 19,
   "id": "12a5a157",
   "metadata": {},
   "outputs": [
    {
     "name": "stdout",
     "output_type": "stream",
     "text": [
      "results/9/log.txt\n",
      "results/9/duration.txt\n",
      "results/0/log.txt\n",
      "results/0/duration.txt\n",
      "results/7/log.txt\n",
      "results/7/duration.txt\n",
      "results/6/log.txt\n",
      "results/6/duration.txt\n",
      "results/1/log.txt\n",
      "results/1/duration.txt\n",
      "results/10/log.txt\n",
      "results/10/duration.txt\n",
      "results/8/log.txt\n",
      "results/8/duration.txt\n",
      "results/4/log.txt\n",
      "results/4/duration.txt\n",
      "results/3/log.txt\n",
      "results/3/duration.txt\n",
      "results/2/log.txt\n",
      "results/2/duration.txt\n",
      "results/5/log.txt\n",
      "results/5/duration.txt\n"
     ]
    }
   ],
   "source": [
    "import os\n",
    "\n",
    "results= \"results\"\n",
    "allfiles = [] #empty list to store output of for loop\n",
    "\n",
    "for path, names, filenames in os.walk(results):\n",
    "    for filename in filenames: #indivual files\n",
    "        full_path = os.path.join(path, filename)\n",
    "        allfiles.append(full_path)\n",
    "\n",
    "for path in allfiles:\n",
    "    print(path)"
   ]
  },
  {
   "cell_type": "code",
   "execution_count": 20,
   "id": "90c14844",
   "metadata": {},
   "outputs": [],
   "source": [
    "for pathx in allfiles:\n",
    "    if os.path.basename(pathx) in (\"log.txt\", \"duration.txt\"):\n",
    "        with open(pathx, \"r\") as f: \n",
    "            content = f.read()\n"
   ]
  },
  {
   "cell_type": "markdown",
   "id": "26579a24",
   "metadata": {},
   "source": [
    "##### For some reason my total_energy list was having trouble finding the numeric value and I used the \"try\" and \"except\" loop so it would stop trying to convert the words and \"=\" into a float"
   ]
  },
  {
   "cell_type": "code",
   "execution_count": 21,
   "id": "09288e6a",
   "metadata": {},
   "outputs": [
    {
     "name": "stdout",
     "output_type": "stream",
     "text": [
      "File: results/9/duration.txt\n",
      "Duration: 3864 seconds\n",
      "Fermi energy: [] eV\n",
      "Total energy: [] Ry\n",
      "----------------------------------------\n",
      "File: results/0/duration.txt\n",
      "Duration: 3864 seconds\n",
      "Fermi energy: 4.4123 eV\n",
      "Total energy: -7810.34686852 Ry\n",
      "----------------------------------------\n",
      "File: results/7/duration.txt\n",
      "Duration: 3864 seconds\n",
      "Fermi energy: 5.4489 eV\n",
      "Total energy: -6709.75170068 Ry\n",
      "----------------------------------------\n",
      "File: results/6/duration.txt\n",
      "Duration: 3864 seconds\n",
      "Fermi energy: 6.0032 eV\n",
      "Total energy: -8188.67781941 Ry\n",
      "----------------------------------------\n",
      "File: results/1/duration.txt\n",
      "Duration: 3864 seconds\n",
      "Fermi energy: 3.9282 eV\n",
      "Total energy: -1739.56011153 Ry\n",
      "----------------------------------------\n",
      "File: results/10/duration.txt\n",
      "Duration: 3864 seconds\n",
      "Fermi energy: 6.9222 eV\n",
      "Total energy: -7743.56591467 Ry\n",
      "----------------------------------------\n",
      "File: results/8/duration.txt\n",
      "Duration: 3864 seconds\n",
      "Fermi energy: 2.0572 eV\n",
      "Total energy: -2642.59090695 Ry\n",
      "----------------------------------------\n",
      "File: results/4/duration.txt\n",
      "Duration: 3864 seconds\n",
      "Fermi energy: 3.391 eV\n",
      "Total energy: -7221.11126964 Ry\n",
      "----------------------------------------\n",
      "File: results/3/duration.txt\n",
      "Duration: 3864 seconds\n",
      "Fermi energy: 4.0634 eV\n",
      "Total energy: -1640.78164983 Ry\n",
      "----------------------------------------\n",
      "File: results/2/duration.txt\n",
      "Duration: 3864 seconds\n",
      "Fermi energy: 4.784 eV\n",
      "Total energy: -3281.64980796 Ry\n",
      "----------------------------------------\n",
      "File: results/5/duration.txt\n",
      "Duration: 3864 seconds\n",
      "Fermi energy: 5.9806 eV\n",
      "Total energy: -9064.83850682 Ry\n",
      "----------------------------------------\n"
     ]
    }
   ],
   "source": [
    "fermi_energy = []\n",
    "total_energy=[]\n",
    "duration=[]\n",
    "for pathx in allfiles:\n",
    "    if os.path.basename(pathx) in (\"log.txt\"):\n",
    "        with open(pathx, \"r\") as f:\n",
    "            for line in f:\n",
    "                line = line.strip()\n",
    "                if \"the Fermi energy is\" in line:\n",
    "                    fermi_energy = float(line.split()[-2])\n",
    "                elif line.startswith(\"!    total energy\"):\n",
    "                    parts = line.replace(\"=\", \"\").split()\n",
    "                    for part in parts:\n",
    "                        try:\n",
    "                            total_energy = float(part)\n",
    "                            #print(\"Total energy:\", total_energy)\n",
    "                            break\n",
    "                        except ValueError:\n",
    "                            continue\n",
    "    elif os.path.basename(pathx) in (\"duration.txt\"):\n",
    "        with open(pathx, \"r\") as f:\n",
    "            first_line = f.readline().strip()\n",
    "            parts = first_line.split(\":\")\n",
    "            if len(parts) == 3:  # hh:mm:ss format\n",
    "                hours, minutes, seconds = map(int, parts)\n",
    "                duration = hours * 3600 + minutes * 60 + seconds\n",
    "\n",
    "        \n",
    "        print(f\"File: {pathx}\")\n",
    "        print(\"Duration:\", duration_seconds, \"seconds\")\n",
    "        print(\"Fermi energy:\", fermi_energy, \"eV\")\n",
    "        print(\"Total energy:\", total_energy, \"Ry\")\n",
    "        print(\"-\" * 40)\n"
   ]
  },
  {
   "cell_type": "markdown",
   "id": "7fd3057a",
   "metadata": {},
   "source": [
    "## Question 2"
   ]
  },
  {
   "cell_type": "markdown",
   "id": "58fa5d50",
   "metadata": {},
   "source": [
    "##### I put my materials for this in the folder titled \"HW1 Question 2\". This is code I made to construct a DCD recoil curve. A DC demagnetization (DCD) recoil curve measures how a magnetic material’s magnetization decreases when it is progressively demagnetized from saturation by applying reverse fields. You first saturate the sample in a positive field, then stepwise apply increasing negative fields, measuring the remanent magnetization at each step with a magnetometer. The code takes the raw magnetometer data (in the form of an input file in the \"recoilcurves_input\" folder, I have provided an example file) and looks for local mimimums and maximums so that only the final point of remanent magnetization at each setting of applied magnetic field (Oe) is kept. It then graphs this data to give a preliminary view of results and exports the resulting values as an excel sheet (to the \"recoilcurves_output\" folder) for further data processing. You must run the code with the respective folders aptly named to generate an output file."
   ]
  },
  {
   "cell_type": "markdown",
   "id": "9a624b59",
   "metadata": {},
   "source": [
    "## Question 3"
   ]
  },
  {
   "cell_type": "markdown",
   "id": "dde261d5",
   "metadata": {},
   "source": [
    "##### This is now my fourth (or maybe fifth) course that I have taken that either directly teahces python concepts or incorporated them into the curriculum somehow. I have actually used some of those YouTube channels before to help me undertsand some concepts (I think mCoding is the one I have seen the most in the past). Under the \"Useful Summaries and Blog Posts\" section, I have certainly used some of these tips and tricks before in my coding, I just have to remember them now because it has been a couple months/years in some cases. Truncating decimal places, splicing lists, identifying string elements, etc. are all very helpful, and I will probably use them all again once I need them. As for the other free Python courses, I think this one is enough for now. I will visit those in the future if ever I am very stuck or want to advance my python skills even further. "
   ]
  },
  {
   "cell_type": "code",
   "execution_count": null,
   "id": "4c28e8a7",
   "metadata": {},
   "outputs": [],
   "source": []
  }
 ],
 "metadata": {
  "kernelspec": {
   "display_name": "chme6320",
   "language": "python",
   "name": "python3"
  },
  "language_info": {
   "codemirror_mode": {
    "name": "ipython",
    "version": 3
   },
   "file_extension": ".py",
   "mimetype": "text/x-python",
   "name": "python",
   "nbconvert_exporter": "python",
   "pygments_lexer": "ipython3",
   "version": "3.11.9"
  }
 },
 "nbformat": 4,
 "nbformat_minor": 5
}

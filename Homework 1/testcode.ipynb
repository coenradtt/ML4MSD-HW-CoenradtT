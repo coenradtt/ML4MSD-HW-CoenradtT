{
 "cells": [
  {
   "cell_type": "code",
   "execution_count": 1,
   "id": "db345a26",
   "metadata": {},
   "outputs": [
    {
     "name": "stdout",
     "output_type": "stream",
     "text": [
      "8\n"
     ]
    }
   ],
   "source": [
    "g=8\n",
    "print(g)"
   ]
  },
  {
   "cell_type": "markdown",
   "id": "12a5a157",
   "metadata": {},
   "source": [
    "# I am testing editing"
   ]
  },
  {
   "cell_type": "markdown",
   "id": "f054c944",
   "metadata": {},
   "source": []
  }
 ],
 "metadata": {
  "kernelspec": {
   "display_name": "chme6320",
   "language": "python",
   "name": "python3"
  },
  "language_info": {
   "codemirror_mode": {
    "name": "ipython",
    "version": 3
   },
   "file_extension": ".py",
   "mimetype": "text/x-python",
   "name": "python",
   "nbconvert_exporter": "python",
   "pygments_lexer": "ipython3",
   "version": "3.11.9"
  }
 },
 "nbformat": 4,
 "nbformat_minor": 5
}

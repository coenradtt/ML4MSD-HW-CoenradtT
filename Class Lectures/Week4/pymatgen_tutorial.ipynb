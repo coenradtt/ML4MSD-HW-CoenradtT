{
  "cells": [
    {
      "cell_type": "markdown",
      "metadata": {
        "id": "WKg-zmvgJNbI"
      },
      "source": [
        "# Tutorial: Crystal Structures with Pymatgen"
      ]
    },
    {
      "cell_type": "markdown",
      "metadata": {
        "id": "bRXWfPICJzrk"
      },
      "source": [
        "Now we import pymatgen and matplotlib (to display graphs) and create our first crystal structure (Zinc Blende, F $\\bar{4}3$ m)"
      ]
    },
    {
      "cell_type": "code",
      "execution_count": null,
      "metadata": {
        "id": "Gf5IGwAqU5qj"
      },
      "outputs": [],
      "source": [
        "from pymatgen.core import Structure, Lattice\n",
        "from plot_functions import display_structure\n",
        "from pymatviz.widgets.structure import StructureWidget\n",
        "import matplotlib.pyplot as plt\n",
        "\n",
        "lattice = Lattice.from_parameters(a=3.84, b=3.84, c=3.84,\n",
        "                                  alpha=60, beta=60, gamma=60)\n",
        "species = [\"Zn\", \"S\"]\n",
        "frac_coords = [[0, 0, 0], [0.25, 0.25, 0.25]]\n",
        "\n",
        "struct = Structure(lattice, species, frac_coords, coords_are_cartesian=False)\n",
        "\n",
        "# fig, ax = plt.subplots(tight_layout=True, figsize=(8,8))\n",
        "# display_structure(struct, ax, miller_index=[-1,0,0], repeat=[2,2,1])\n",
        "# plt.show()\n",
        "\n",
        "StructureWidget(struct)"
      ]
    },
    {
      "cell_type": "markdown",
      "metadata": {
        "id": "-xir3xxBN1PB"
      },
      "source": [
        "We can also determine the spacegroup of any crystal that we create (pymatgen uses spglib under the hood)"
      ]
    },
    {
      "cell_type": "code",
      "execution_count": null,
      "metadata": {
        "id": "NC2bLOKlN_ML"
      },
      "outputs": [],
      "source": [
        "from pymatgen.symmetry.analyzer import SpacegroupAnalyzer\n",
        "\n",
        "spg = SpacegroupAnalyzer(struct)\n",
        "\n",
        "print(f'Crystal System: {spg.get_crystal_system()}')\n",
        "print(f'Lattice Type: {spg.get_lattice_type()}')\n",
        "print(f'Hall Symbol: {spg.get_hall()}')\n",
        "print(f'Point Group Symbol: {spg.get_point_group_symbol()}')\n",
        "print(f'Space Group Symbol: {spg.get_space_group_symbol()}')\n",
        "print(f'Space Group Number: {spg.get_space_group_number()}')"
      ]
    },
    {
      "cell_type": "markdown",
      "metadata": {
        "id": "jKiap_MNPh1I"
      },
      "source": [
        "And it can also find and convert our structure between primitive and conventional cells."
      ]
    },
    {
      "cell_type": "code",
      "execution_count": null,
      "metadata": {
        "id": "-lHJENQFPzkV"
      },
      "outputs": [],
      "source": [
        "struct_conv = spg.get_conventional_standard_structure()\n",
        "#struct_prim = spg.find_primitive()  # to find primitive\n",
        "\n",
        "# fig, ax = plt.subplots(tight_layout=True, figsize=(8,8))\n",
        "# display_structure(struct_conv, ax, miller_index=[1,0,0], repeat=[1,1,1])\n",
        "# plt.show()\n",
        "\n",
        "StructureWidget(struct_conv)"
      ]
    },
    {
      "cell_type": "markdown",
      "metadata": {
        "id": "heAbgZ7LcPup"
      },
      "source": [
        "Structures can also be created from a spacegroup"
      ]
    },
    {
      "cell_type": "code",
      "execution_count": null,
      "metadata": {
        "id": "mYyonMfAfsGc"
      },
      "outputs": [],
      "source": [
        "bcc_Mo = Structure.from_spacegroup(\"Im-3m\", Lattice.cubic(3.1), [\"Mo\"], [[0, 0, 0]])\n",
        "print(bcc_Mo.frac_coords)\n",
        "\n",
        "# fig, ax = plt.subplots(tight_layout=True, figsize=(8,8))\n",
        "# display_structure(bcc_Mo, ax, miller_index=[1,0,0], repeat=[1,1,1])\n",
        "# plt.show()\n",
        "StructureWidget(bcc_Mo)"
      ]
    },
    {
      "cell_type": "markdown",
      "metadata": {
        "id": "_lP66Lgm2bom"
      },
      "source": [
        "Pymatgen enables us to easily manipulate structures and generate supercells and slabs"
      ]
    },
    {
      "cell_type": "code",
      "execution_count": null,
      "metadata": {
        "id": "NdXJAePZ2klH"
      },
      "outputs": [],
      "source": [
        "bcc_Mo = Structure.from_spacegroup(\"Im-3m\", Lattice.cubic(3.1), [\"Mo\"], [[0, 0, 0]])\n",
        "#bcc_Mo.make_supercell([1,2,1])\n",
        "#  Pymatgen structures are lists of sites, so we can manipulate them like lists\n",
        "#bcc_Mo[1] = 'N'\n",
        "#bcc_Mo[3].frac_coords = [0.5, 0.7, 0.7]\n",
        "#del bcc_Mo[2]\n",
        "#bcc_Mo.append('O', [0, 0.25, 0.25])\n",
        "\n",
        "print(bcc_Mo)\n",
        "# fig, ax = plt.subplots(tight_layout=True, figsize=(8,8))\n",
        "# display_structure(bcc_Mo, ax, miller_index=[1,0,0], repeat=[1,1,1])\n",
        "# plt.show()\n",
        "StructureWidget(bcc_Mo)"
      ]
    },
    {
      "cell_type": "markdown",
      "metadata": {
        "id": "6FtEWDbnQDfH"
      },
      "source": [
        "And pymatgen can also export (and import) various files like .cif, .xyz, and DFT input files"
      ]
    },
    {
      "cell_type": "code",
      "execution_count": null,
      "metadata": {
        "id": "AbbanNJRQQrs"
      },
      "outputs": [],
      "source": [
        "bcc_Mo.to(filename='bcc_Mo.cif')\n",
        "#bcc_Mo = Structure.from_file('bcc_Mo.cif') #to import a structure from a cif file"
      ]
    },
    {
      "cell_type": "markdown",
      "metadata": {
        "id": "EeuZdH2pnSXm"
      },
      "source": [
        "The `Lattice` object can be generated in various ways and can be a useful for crystallographic calculations"
      ]
    },
    {
      "cell_type": "code",
      "execution_count": null,
      "metadata": {
        "id": "514EPXhrnYP9"
      },
      "outputs": [],
      "source": [
        "lattice_vec = Lattice([[3, 0, 0], [0, 4, 0], [0, 0, 6]])  # three lattice vectors as rows\n",
        "lattice_param = Lattice.from_parameters(3, 4, 6, 90, 90, 90)  # a, b, c, alpha, beta, gamma\n",
        "lattice_orth = Lattice.orthorhombic(3, 4, 6) # special case of orthorhombic lattice\n",
        "\n",
        "lattice_vec == lattice_param == lattice_orth"
      ]
    },
    {
      "cell_type": "code",
      "execution_count": null,
      "metadata": {
        "id": "GOUXfCm7n14z"
      },
      "outputs": [],
      "source": [
        "print(f'Lattice volume: {lattice_orth.volume} A^3')\n",
        "print(f'Lattice parameters: {lattice_orth.parameters}') # also accessible separate using a, b, c, alpha, beta, gamma, lengths, abc, angles\n",
        "print(f'd_(1,2,0) = {round(lattice_orth.d_hkl((1, 2, 0)), 2)} A')  # d_hkl for interplanar spacing, length of normal vector to (hkl) plane\n",
        "print(f'Closest distance between [0,0,0] and [0.5,0.5,0.5]: {round(lattice_orth.get_distance_and_image([0, 0, 0], [0.5, 0.5, 0.5])[0], 2)} A')\n",
        "print(lattice_orth.get_cartesian_coords([0.5, 0.5, 0.5])) # get_fractional_coords for opposite conversion\n",
        "lattice_orth.metric_tensor"
      ]
    },
    {
      "cell_type": "code",
      "execution_count": null,
      "metadata": {
        "id": "5CVxuNBKpFbx"
      },
      "outputs": [],
      "source": [
        "lattice_orth.reciprocal_lattice\n",
        "#reciprocal_lattice_crystallographic does not use the 2*pi factor"
      ]
    },
    {
      "cell_type": "code",
      "execution_count": null,
      "metadata": {
        "id": "CgO5qDcCv3hn"
      },
      "outputs": [],
      "source": [
        "from pymatgen.analysis.diffraction.xrd import XRDCalculator\n",
        "\n",
        "fig, ax = plt.subplots(tight_layout=True, figsize=(12,6))\n",
        "XRDCalculator(wavelength='CuKa').get_plot(struct_conv, two_theta_range=(0,90), ax=ax)\n",
        "plt.xlim([20,100])\n",
        "plt.ylim([0,110])"
      ]
    },
    {
      "cell_type": "markdown",
      "metadata": {
        "id": "g20CYdR8_zQq"
      },
      "source": [
        "## Exercise 7.1:\n",
        "Let's create a Si-doped GaAs structure. GaAs is a Zinc Blende structure, similar to the diamond structure of Si (just that there are 2 different types of chemical species present in the unit cell). To practice the concepts from above, create a primitive FCC Si structure and then replace the two Si atoms in the primitive unit cell with Ga and As. Convert the structure to a conventional cell and verify that the lattice constant is 5.44. Lastly, create a 2x2x2 supercell and replace one of the Ga atoms with Si, then export it as a `.cif`. Optionally, plot the Cu-K$\\alpha$ XRD pattern of the structure."
      ]
    },
    {
      "cell_type": "code",
      "execution_count": null,
      "metadata": {
        "id": "T6QApC8RAtwM"
      },
      "outputs": [],
      "source": [
        "from pymatgen.symmetry.analyzer import SpacegroupAnalyzer\n",
        "\n",
        "# 1. Create the primitive lattice of FCC Si (lattice constant for the primitive cell is 3.85 and all angles 60 degrees)\n",
        "lattice_fcc_Si = Lattice.#...\n",
        "fcc_Si_primitive = Structure(lattice_fcc_Si, [\"Si\"]*2, [[0, 0, 0], [0.25, 0.25, 0.25]])\n",
        "\n",
        "# 2. Replace Si atoms with Ga and As\n",
        "# ...\n",
        "# ...\n",
        "#\n",
        "# 3. Convert the primitive cell to the conventional cell\n",
        "spg = SpacegroupAnalyzer(fcc_Si_primitive)\n",
        "fcc_Si = spg.get_conventional_standard_structure()\n",
        "print(struct_conv.lattice.a)\n",
        "# 4. Make a 2x2x2 supercell\n",
        "fcc_Si.make_supercell([2, 2, 2])\n",
        "# 5. Replace one of the Ga atoms with Si\n",
        "# ...\n",
        "# 6. Save the structure as a .cif file\n",
        "fcc_Si.#...\n",
        "\n",
        "print(fcc_Si)\n",
        "# fig, ax = plt.subplots(tight_layout=True, figsize=(8,8))\n",
        "# display_structure(fcc_Si, ax, miller_index=[1,0,0], repeat=[1,1,1])\n",
        "# plt.show()\n",
        "StructureWidget(fcc_Si)"
      ]
    },
    {
      "cell_type": "markdown",
      "metadata": {
        "id": "qYrs9-9hGS2C"
      },
      "source": [
        "## Exercise 7.2:\n",
        "Create a cubic `Lattice` with $a=5\\mathring{\\mathrm{A}}$ and then create a `Structure` with the lattice and the listed `species` and `coords`. Determine the spacegroup information. Do you notice anything strange about this structure? If not, maybe [this paper](https://doi.org/10.1107/S0108768196002996) will give you a hint."
      ]
    },
    {
      "cell_type": "code",
      "execution_count": null,
      "metadata": {
        "id": "4IPGS8be4a2c"
      },
      "outputs": [],
      "source": [
        "lattice = Lattice.#...\n",
        "species = ['Cu']*4 + ['S']*8\n",
        "coords = [[0.7475,0.1,0.4975],[0.2525,0.6,0.5025],[0.2483,0.103,0.0019],\n",
        "          [0.7517,0.603,0.9981],[0.853,0.998,0.106],[0.147,0.498,0.894],\n",
        "          [0.137,0.993,0.606],[0.863,0.493,0.394],[0.644,0.208,0.896],\n",
        "          [0.356,0.708,0.104],[0.3471,0.204,0.397],[0.6529,0.704,0.603]]\n",
        "struc = Structure(lattice, species, coords)\n",
        "spg = SpacegroupAnalyzer(struc)\n",
        "\n",
        "print(f'Crystal System: {spg.get_crystal_system()}')\n",
        "print(f'Lattice Type: {spg.get_lattice_type()}')\n",
        "print(f'Hall Symbol: {spg.get_hall()}')\n",
        "print(f'Point Group Symbol: {spg.get_point_group_symbol()}')\n",
        "print(f'Space Group Symbol: {spg.get_space_group_symbol()}')\n",
        "print(f'Space Group Number: {spg.get_space_group_number()}')\n",
        "\n",
        "# fig, ax = plt.subplots(tight_layout=True, figsize=(8,8))\n",
        "# display_structure(struc, ax, miller_index=[1,0,0], repeat=[1,1,1])\n",
        "# plt.show()\n",
        "StructureWidget(struc)"
      ]
    },
    {
      "cell_type": "markdown",
      "metadata": {},
      "source": [
        "On a related note, textbooks often falsely prescribe the lattice parameters for the crystal systems. For example, you often see for triclinic that $a\\neq b\\neq c$ - this is however untrue, in general. The lattice parameters may be the same by coincidence (like in the previous example) but the underlying symmetry of the crystal might still be lower.\n",
        "\n",
        "Hence, the correct way is to phrase these as constraints:\n",
        "\n",
        "| Crystal System | Cell Constants | Cell Angles                       | Maximum Symmetry |\n",
        "|----------------|----------------|-----------------------------------|------------------|\n",
        "| Triclinic      | none           | none                              | $\\bar{1}$              |\n",
        "| Monoclinic     | none           | α = γ = 90°                       | 2/m              |\n",
        "| Orthorhombic   | none           | α = β = γ = 90°                   | mmm              |\n",
        "| Tetragonal     | a = b          | α = β = γ = 90°                   | 4/mmm            |\n",
        "| Trigonal       | a = b          | α = β = 90°; γ = 120°             | $\\bar{3}\\mathrm{m}$              |\n",
        "| Hexagonal      | a = b          | α = β = 90°; γ = 120°             | 6/mmm            |\n",
        "| Cubic          | a = b = c      | α = β = γ = 90°                   | $\\mathrm{m}\\bar{3}\\mathrm{m}$ | "
      ]
    }
  ],
  "metadata": {
    "colab": {
      "provenance": []
    },
    "kernelspec": {
      "display_name": "ML4MSD-Teacher",
      "language": "python",
      "name": "python3"
    },
    "language_info": {
      "codemirror_mode": {
        "name": "ipython",
        "version": 3
      },
      "file_extension": ".py",
      "mimetype": "text/x-python",
      "name": "python",
      "nbconvert_exporter": "python",
      "pygments_lexer": "ipython3",
      "version": "3.11.9"
    }
  },
  "nbformat": 4,
  "nbformat_minor": 0
}

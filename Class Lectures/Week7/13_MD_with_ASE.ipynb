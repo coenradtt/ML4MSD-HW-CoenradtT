{
 "cells": [
  {
   "cell_type": "markdown",
   "id": "a7cb750e",
   "metadata": {},
   "source": [
    "# Molecular Dynamics Demonstration with ASE\n",
    "\n",
    "Here we will go through an example of a MD simulation by using the Atomic Simulation Environment (ASE). Most of this tutorial was taken from the [ASE Workshop 2023](https://ase-workshop-2023.github.io/tutorial/) which nicely covers this topic."
   ]
  },
  {
   "cell_type": "markdown",
   "id": "74298b93",
   "metadata": {},
   "source": [
    "## ASE Basics\n",
    "\n",
    "ASE is similar to Pymatgen, as it also conveniently generates molecules and crystal structures and is capable of manipulating them and reading/saving them from common crystal/molecule files."
   ]
  },
  {
   "cell_type": "code",
   "execution_count": null,
   "id": "1cde1f02",
   "metadata": {},
   "outputs": [],
   "source": [
    "from ase import Atoms\n",
    "from ase.visualize import view\n",
    "\n",
    "a = 5.387\n",
    "crystal = Atoms('Zn4S4',\n",
    "                scaled_positions=[[0., 0., 0.],\n",
    "                           [0., 0.5, 0.5],\n",
    "                           [0.5, 0., 0.5],\n",
    "                           [0.5, 0.5, 0.],\n",
    "                           [0.25, 0.75, 0.75],\n",
    "                           [0.25, 0.25, 0.25],\n",
    "                           [0.75, 0.75, 0.25],\n",
    "                           [0.75, 0.25, 0.75]],\n",
    "               cell=[a, a, a],\n",
    "               pbc=True)\n",
    "\n",
    "view(crystal, viewer='ngl')"
   ]
  },
  {
   "cell_type": "code",
   "execution_count": null,
   "id": "a201ce3b",
   "metadata": {},
   "outputs": [],
   "source": [
    "print(crystal.get_positions(), end='\\n\\n')  # cartesian coordinates\n",
    "print(crystal.get_scaled_positions(), end='\\n\\n')  # fractional coordinates\n",
    "print(crystal.get_chemical_symbols())\n",
    "print(crystal.cell.cellpar())\n",
    "print(crystal.cell.array)  # cell vectors"
   ]
  },
  {
   "cell_type": "markdown",
   "id": "67bc8fa4",
   "metadata": {},
   "source": [
    "Similar to Pymatgen, `Atoms` objects are lists of `Atom`s (in Pymatgen, a `Structure` is a list of `PeriodicSite`s)."
   ]
  },
  {
   "cell_type": "code",
   "execution_count": null,
   "id": "8636c5a9",
   "metadata": {},
   "outputs": [],
   "source": [
    "for atom in crystal:\n",
    "    print(atom.symbol, atom.position, atom.mass)"
   ]
  },
  {
   "cell_type": "code",
   "execution_count": null,
   "id": "1845a5c6",
   "metadata": {},
   "outputs": [],
   "source": [
    "zinc_indices = [i for i, atom in enumerate(crystal) if atom.symbol == 'Zn']\n",
    "zinc_sublattice = crystal[zinc_indices]\n",
    "view(zinc_sublattice, viewer='ngl')"
   ]
  },
  {
   "cell_type": "code",
   "execution_count": null,
   "id": "1b5abd24",
   "metadata": {},
   "outputs": [],
   "source": [
    "from ase import Atom\n",
    "\n",
    "defected_structure = crystal.copy()\n",
    "del defected_structure[0]\n",
    "defected_structure.append(Atom('O', position=(1, 3, 4.04025)))\n",
    "view(defected_structure, viewer='ngl')"
   ]
  },
  {
   "cell_type": "markdown",
   "id": "cd651a59",
   "metadata": {},
   "source": [
    "ASE has many convenience function to build known structures.\n",
    "\n",
    "For example, for the `bulk`, it can easily create the following structures: sc, fcc, bcc, tetragonal, bct, hcp, rhombohedral, orthorhombic, mcl, diamond, zincblende, rocksalt, cesiumchloride, fluorite or wurtzite."
   ]
  },
  {
   "cell_type": "code",
   "execution_count": null,
   "id": "5e0103f1",
   "metadata": {},
   "outputs": [],
   "source": [
    "from ase.build import bulk, nanotube, graphene_nanoribbon, fcc111\n",
    "\n",
    "a1 = bulk('Cu', 'fcc', a=3.6)\n",
    "a2 = bulk('Cu', 'fcc', a=3.6, cubic=True)\n",
    "# view(a1, viewer='ngl')\n",
    "# view(a2, viewer='ngl')\n",
    "\n",
    "diamond = bulk('C', 'diamond', a=3.57)\n",
    "# view(diamond, viewer='ngl')\n",
    "\n",
    "cnt = nanotube(6, 6, length=10)\n",
    "# view(cnt, viewer='ngl')\n",
    "\n",
    "gnr = graphene_nanoribbon(6, 10, type='zigzag', saturated=True)\n",
    "# view(gnr, viewer='ngl')\n",
    "\n",
    "slab = fcc111('Pt', size=(2, 2, 4), vacuum=10.0)\n",
    "view(slab, viewer='ngl')\n"
   ]
  },
  {
   "cell_type": "markdown",
   "id": "86f99d65",
   "metadata": {},
   "source": [
    "## MD Demonstration Using ASE's `Calculator` Class\n",
    "\n",
    "A `Calculator` object can be attached to an `Atoms` object.\n",
    "\n",
    "The `Calculator` takes the atomic numbers and positions from `Atoms` and calculates basic properties such as energy or forces."
   ]
  },
  {
   "cell_type": "code",
   "execution_count": null,
   "id": "6225a673",
   "metadata": {},
   "outputs": [],
   "source": [
    "import ase.build\n",
    "from ase.calculators.emt import EMT\n",
    "from ase.md.velocitydistribution import MaxwellBoltzmannDistribution\n",
    "\n",
    "# Set up a crystal\n",
    "cu_cube = ase.build.bulk('Cu', cubic=True) * [3, 3, 3]\n",
    "\n",
    "# Describe the interatomic interactions with the Effective Medium Theory\n",
    "cu_cube.calc = EMT()\n",
    "\n",
    "# Set the momenta corresponding to T=300K\n",
    "MaxwellBoltzmannDistribution(cu_cube, temperature_K=300)"
   ]
  },
  {
   "cell_type": "code",
   "execution_count": null,
   "id": "a4f0df59",
   "metadata": {},
   "outputs": [],
   "source": [
    "row_limit = 4\n",
    "print('velocities:')\n",
    "print(cu_cube.get_velocities()[:row_limit])\n",
    "\n",
    "print(f'\\nkinetic energy: {cu_cube.get_kinetic_energy()}')\n",
    "\n",
    "print('\\nforces:')\n",
    "print(cu_cube.get_forces()[:row_limit])"
   ]
  },
  {
   "cell_type": "code",
   "execution_count": null,
   "id": "2bc9b3fe",
   "metadata": {},
   "outputs": [],
   "source": [
    "from ase import units\n",
    "from ase.md.verlet import VelocityVerlet\n",
    "\n",
    "dyn = VelocityVerlet(cu_cube, 5 * units.fs)"
   ]
  },
  {
   "cell_type": "code",
   "execution_count": null,
   "id": "efc82f83",
   "metadata": {},
   "outputs": [],
   "source": [
    "dyn.run(1)\n",
    "\n",
    "print('velocities:')\n",
    "print(cu_cube.get_velocities()[:row_limit])\n",
    "\n",
    "print('\\nforces:')\n",
    "print(cu_cube.get_forces()[:row_limit])"
   ]
  },
  {
   "cell_type": "code",
   "execution_count": null,
   "id": "90749c33",
   "metadata": {},
   "outputs": [],
   "source": [
    "from ase import Atoms\n",
    "\n",
    "def printenergy(atoms: Atoms) -> None:\n",
    "    \"\"\"Function to print the potential, kinetic and total energy\"\"\"\n",
    "    epot = atoms.get_potential_energy() / len(atoms)\n",
    "    ekin = atoms.get_kinetic_energy() / len(atoms)\n",
    "    temperature = ekin / (1.5 * units.kB)\n",
    "\n",
    "    print(f'Energy per atom: Epot = {epot:.3f}eV  Ekin = {ekin:.3f}eV '\n",
    "          f'(T={temperature:3.0f}K)  Etot = {epot+ekin:.3f}eV')\n",
    "\n",
    "# print starting energies\n",
    "printenergy(cu_cube)\n",
    "# print energies as system evolves\n",
    "for i in range(20):\n",
    "    dyn.run(10)\n",
    "    printenergy(cu_cube)"
   ]
  },
  {
   "cell_type": "code",
   "execution_count": null,
   "id": "37722acf",
   "metadata": {},
   "outputs": [],
   "source": [
    "from functools import partial\n",
    "dyn.attach(partial(printenergy, cu_cube), interval=10)\n",
    "dyn.run(100)"
   ]
  },
  {
   "cell_type": "code",
   "execution_count": null,
   "id": "b0ad9b93",
   "metadata": {},
   "outputs": [],
   "source": [
    "import numpy as np\n",
    "ref_atoms = ase.build.bulk('Cu', cubic=True) * [3, 3, 3]\n",
    "ref_atoms.center()  # Shift centre-of-mass to the origin\n",
    "\n",
    "def rms_observer():\n",
    "    cu_cube.center()  # Remove drift, make consistent with ref\n",
    "    displacements = cu_cube.positions - ref_atoms.positions\n",
    "    rms_displacements = np.sqrt((displacements**2).mean(axis=0))\n",
    "    print(rms_displacements)\n",
    "\n",
    "dyn = VelocityVerlet(cu_cube, 5 * units.fs)\n",
    "dyn.attach(rms_observer, interval=50)\n",
    "dyn.run(400)"
   ]
  },
  {
   "cell_type": "code",
   "execution_count": null,
   "id": "628dea29",
   "metadata": {},
   "outputs": [],
   "source": [
    "from ase.visualize import view\n",
    "\n",
    "view(cu_cube, viewer='ngl')"
   ]
  },
  {
   "cell_type": "code",
   "execution_count": null,
   "id": "3af199de",
   "metadata": {},
   "outputs": [],
   "source": [
    "from ase.io.trajectory import Trajectory\n",
    "from ase.md import Langevin\n",
    "\n",
    "cu_lump = cu_cube.copy()\n",
    "cu_lump.pbc=False\n",
    "cu_lump.calc = EMT()\n",
    "\n",
    "def energy_observer():\n",
    "    printenergy(cu_lump)\n",
    "\n",
    "dyn = Langevin(cu_lump, 5 * units.fs, friction=0.005, temperature_K=1000)\n",
    "dyn.attach(energy_observer, interval=50)\n",
    "\n",
    "# We also want to save the positions of all atoms after every 50th time step.\n",
    "traj = Trajectory('cu_melt.traj', 'w', cu_lump)\n",
    "dyn.attach(traj.write, interval=50)  # type: ignore\n",
    "\n",
    "# Now run the dynamics\n",
    "dyn.run(1000)"
   ]
  },
  {
   "cell_type": "code",
   "execution_count": null,
   "id": "aaddede2",
   "metadata": {},
   "outputs": [],
   "source": [
    "import ase.io\n",
    "\n",
    "frames = ase.io.read('cu_melt.traj', index=':')\n",
    "view(frames, viewer='ngl')"
   ]
  },
  {
   "cell_type": "code",
   "execution_count": null,
   "id": "51d1759d",
   "metadata": {},
   "outputs": [],
   "source": [
    "for temperature in range(800, 100, -50):\n",
    "    dyn.set_temperature(temperature_K=temperature)\n",
    "    dyn.run(100)\n",
    "\n",
    "frames = ase.io.read('cu_melt.traj', index=':')\n",
    "view(frames, viewer='ngl')"
   ]
  }
 ],
 "metadata": {
  "kernelspec": {
   "display_name": "ML4MSD-Teacher",
   "language": "python",
   "name": "python3"
  },
  "language_info": {
   "codemirror_mode": {
    "name": "ipython",
    "version": 3
   },
   "file_extension": ".py",
   "mimetype": "text/x-python",
   "name": "python",
   "nbconvert_exporter": "python",
   "pygments_lexer": "ipython3",
   "version": "3.11.9"
  }
 },
 "nbformat": 4,
 "nbformat_minor": 5
}

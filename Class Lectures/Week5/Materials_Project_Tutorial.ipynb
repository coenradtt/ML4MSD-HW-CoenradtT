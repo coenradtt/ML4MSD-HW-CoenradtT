{
  "cells": [
    {
      "cell_type": "markdown",
      "metadata": {
        "id": "7lMF7brfDgmQ"
      },
      "source": [
        "# Materials Project API Tutorial\n",
        "\n",
        "We will be using the application programming interface (API) of Materials Project to gain data-driven insights about trends in materials.\n",
        "\n",
        "If you are planning to use the API in the future, please create a free account on the MP website and go to https://next-gen.materialsproject.org/dashboard and look up your personal key in the **API keys** section."
      ]
    },
    {
      "cell_type": "code",
      "execution_count": null,
      "metadata": {
        "id": "vIjRLaK91lyY"
      },
      "outputs": [],
      "source": [
        "from mp_api.client import MPRester\n",
        "from emmet.core.symmetry import CrystalSystem\n",
        "from emmet.core.mpid import MPID\n",
        "import matplotlib.pyplot as plt\n",
        "from pymatviz.widgets.structure import StructureWidget\n",
        "import pandas as pd\n",
        "\n",
        "import sys\n",
        "import os\n",
        "sys.path.append(os.path.abspath(os.path.join(os.getcwd(), '..')))  # adds parent directory to path to find utils scripts\n",
        "from utils.plot_functions import display_structure, plot_periodic_table_heatmap"
      ]
    },
    {
      "cell_type": "markdown",
      "metadata": {},
      "source": [
        "### Specify your API Key"
      ]
    },
    {
      "cell_type": "code",
      "execution_count": null,
      "metadata": {},
      "outputs": [],
      "source": [
        "api_key = 'YOURAPIKEY'"
      ]
    },
    {
      "cell_type": "markdown",
      "metadata": {},
      "source": [
        "## Fetching Specific Crystal Structures"
      ]
    },
    {
      "cell_type": "markdown",
      "metadata": {
        "id": "c2RA9yjThAFS"
      },
      "source": [
        "Firstly, let us pull the cubic ZnS structure from before by specifying the formula and crystal system."
      ]
    },
    {
      "cell_type": "code",
      "execution_count": null,
      "metadata": {
        "id": "qP_gfYYMG7UB"
      },
      "outputs": [],
      "source": [
        "with MPRester(api_key) as mpr:\n",
        "    ZnS = mpr.summary.search(formula='ZnS', crystal_system=CrystalSystem('Cubic'),\n",
        "                             fields=['material_id', 'structure'])\n",
        "ZnS"
      ]
    },
    {
      "cell_type": "markdown",
      "metadata": {
        "id": "5ClVnXBDhKNz"
      },
      "source": [
        "As we pulled the structure information, we can use it directly in pymatgen to work with it. Let's display it!"
      ]
    },
    {
      "cell_type": "code",
      "execution_count": null,
      "metadata": {
        "id": "t0WKG48OSZ4O"
      },
      "outputs": [],
      "source": [
        "ZnS_struct = ZnS[0].structure\n",
        "\n",
        "fig, ax = plt.subplots(tight_layout=True, figsize=(8,8))\n",
        "display_structure(ZnS_struct, ax, miller_index=[-1,0,0], repeat=[1,1,1])\n",
        "plt.show()\n",
        "# StructureWidget(ZnS_struct)"
      ]
    },
    {
      "cell_type": "markdown",
      "metadata": {
        "id": "OUH24iDfhaRx"
      },
      "source": [
        "Using the `material_id` (often referred to as *mpid*) we can pull the DFT-calculated band structure from the MP database."
      ]
    },
    {
      "cell_type": "code",
      "execution_count": null,
      "metadata": {
        "id": "EgGI2aJDcni3"
      },
      "outputs": [],
      "source": [
        "from pymatgen.electronic_structure.plotter import BSDOSPlotter\n",
        "\n",
        "ZnS_mpid = str(ZnS[0].material_id)\n",
        "with MPRester(api_key) as m:\n",
        "    bs = m.get_bandstructure_by_material_id(MPID(ZnS_mpid))\n",
        "\n",
        "BSDOSPlotter(fig_size=(10,6)).get_plot(bs)"
      ]
    },
    {
      "cell_type": "markdown",
      "metadata": {
        "id": "xheYZZW4kntF"
      },
      "source": [
        "With `MPRester` we can search the MP database and pull various properties (`fields`) of materials that fullfill criteria that we can specify (*e.g.*, `theoretical=False` filters for materials that have been experimentally verified/synthesized). A list of the fields that can be requested is summarized [here](https://api.materialsproject.org/docs#/Materials%20Summary)."
      ]
    },
    {
      "cell_type": "code",
      "execution_count": null,
      "metadata": {
        "id": "O2wDGgvAARdF"
      },
      "outputs": [],
      "source": [
        "with MPRester(api_key) as m:\n",
        "    data = mpr.materials.summary.search(theoretical=False, energy_above_hull=(0, 0.02),\n",
        "                                        fields=['material_id', 'nsites', 'nelements',\n",
        "                                                'chemsys', 'band_gap', 'symmetry'])"
      ]
    },
    {
      "cell_type": "markdown",
      "metadata": {
        "id": "UJT3Uf_XX6eg"
      },
      "source": [
        "The next code block restructures the requested data into a Pandas DataFrame and adds a column with the crystal system information (may take ~40 seconds to run)."
      ]
    },
    {
      "cell_type": "code",
      "execution_count": null,
      "metadata": {},
      "outputs": [],
      "source": [
        "flattened = [{k: v for k, v in dict(d).items() if v is not None} for d in data]\n",
        "mpids = pd.DataFrame.from_records(flattened)\n",
        "mpids['symmetry.crystal_system'] = mpids['symmetry'].apply(lambda x: str(x.crystal_system).lower())\n",
        "mpids = mpids.dropna(axis=1, how='all')\n",
        "mpids = mpids.drop(columns=['symmetry', 'fields_not_requested'])\n",
        "# mpids.to_csv('mp_data.csv')\n",
        "# mpids.to_json('mp_data.json', orient='records')"
      ]
    },
    {
      "cell_type": "markdown",
      "metadata": {
        "id": "2ABRzVemEcDq"
      },
      "source": [
        "First, let's have a look at the distribution of materials for the different crystal systems:"
      ]
    },
    {
      "cell_type": "code",
      "execution_count": null,
      "metadata": {
        "id": "slnbLEo2Au68"
      },
      "outputs": [],
      "source": [
        "print(mpids.dtypes)\n",
        "# mpids = pd.read_csv('mp_data.csv', index_col = 0)  # Use this in case data cannot be requested from MP\n",
        "\n",
        "fig, ax = plt.subplots(tight_layout=True, figsize=(10,6))\n",
        "n_materials = mpids.loc[mpids['nelements'] > 0, 'symmetry.crystal_system'].value_counts()\\\n",
        "                    .reindex(['triclinic', 'monoclinic', 'orthorhombic', 'tetragonal', 'trigonal', 'hexagonal', 'cubic'])\n",
        "\n",
        "n_materials.plot(kind='bar', ax=ax, fontsize=16, legend=False)\n",
        "ax.set_ylabel('Number of materials', fontsize=16)\n",
        "plt.show()"
      ]
    },
    {
      "cell_type": "markdown",
      "metadata": {
        "id": "BZKipWPtfgW2"
      },
      "source": [
        "And the distribution of high-symmetry crystal systems containing different chemical elements:"
      ]
    },
    {
      "cell_type": "code",
      "execution_count": null,
      "metadata": {
        "id": "43jR1o5rJwIx"
      },
      "outputs": [],
      "source": [
        "crys_sys = ['cubic', 'hexagonal', 'trigonal', 'tetragonal']\n",
        "\n",
        "elemental_data_all = {}\n",
        "elemental_data_cs = {}\n",
        "\n",
        "for i in mpids.index:\n",
        "    elements = str(mpids.loc[i, 'chemsys']).split('-')\n",
        "    for el in elements:\n",
        "        if el in elemental_data_all:\n",
        "            elemental_data_all[el] += 1\n",
        "        else:\n",
        "            elemental_data_all[el] = 1\n",
        "    if mpids.loc[i, 'symmetry.crystal_system'] in crys_sys:\n",
        "      for el in elements:\n",
        "        if el in elemental_data_cs:\n",
        "            elemental_data_cs[el] += 1\n",
        "        else:\n",
        "            elemental_data_cs[el] = 1\n",
        "elemental_data_ratio = {x: 100* elemental_data_cs[x] / elemental_data_all[x]\n",
        "                        for x in elemental_data_all if x in elemental_data_cs}\n",
        "\n",
        "plt = plot_periodic_table_heatmap(elemental_data_ratio, cbar_label=\"Ratio (%)\",\n",
        "                                  cbar_label_size=16, show_plot=True,\n",
        "                                  cmap=\"YlOrRd\", cmap_range=[20,70],\n",
        "                                  value_format='%d')"
      ]
    },
    {
      "cell_type": "markdown",
      "metadata": {
        "id": "-yE-ArGoEo68"
      },
      "source": [
        "Next, we can analyze the average bandgap for materials in each of the crystal systems"
      ]
    },
    {
      "cell_type": "code",
      "execution_count": null,
      "metadata": {
        "id": "vfKSm5PDd6fJ"
      },
      "outputs": [],
      "source": [
        "# crystal_systems = set(mpids['symmetry.crystal_system'].tolist())\n",
        "crystal_systems = ['triclinic', 'monoclinic', 'orthorhombic', 'tetragonal',\n",
        "                   'trigonal', 'hexagonal', 'cubic']\n",
        "average_bandgaps = pd.DataFrame(columns=['crystal_system', 'bandgap_average'])\n",
        "average_bandgaps.loc[:, 'crystal_system'] = list(crystal_systems)\n",
        "\n",
        "for i, cs in enumerate(crystal_systems):\n",
        "  average_bandgaps.loc[i, 'bandgap_average'] = \\\n",
        "    mpids.loc[mpids['symmetry.crystal_system'] == cs, 'band_gap'].mean()\n",
        "\n",
        "fig, ax = plt.subplots(tight_layout=True, figsize=(10,6))\n",
        "average_bandgaps.plot(kind='bar', ax=ax, fontsize=16, legend=False)\n",
        "ax.set_ylabel('Mean bandgap (eV)', fontsize=16)\n",
        "ax.set_xticklabels(crystal_systems)\n",
        "plt.show()\n"
      ]
    },
    {
      "cell_type": "markdown",
      "metadata": {
        "id": "o98OQA15E7Zb"
      },
      "source": [
        "What is maybe even more interesting: How many percent of materials in each crystal system is metallic (*i.e.* $E_\\mathrm{gap}=0$)?"
      ]
    },
    {
      "cell_type": "code",
      "execution_count": null,
      "metadata": {
        "id": "9dukJD_3HE-K"
      },
      "outputs": [],
      "source": [
        "metal_semiconductor = pd.DataFrame(columns=['crystal_system', 'n_metallic', 'n_total', 'metallic_fraction'])\n",
        "metal_semiconductor.loc[:,'crystal_system'] = crystal_systems\n",
        "\n",
        "for i, cs in enumerate(crystal_systems):\n",
        "    metal_semiconductor.loc[i, 'n_metallic'] = \\\n",
        "      mpids.loc[(mpids['symmetry.crystal_system'] == cs) & (mpids['band_gap'] == 0), 'band_gap'].count()\n",
        "    metal_semiconductor.loc[i, 'n_total'] = \\\n",
        "      mpids.loc[(mpids['symmetry.crystal_system'] == cs), 'band_gap'].count()\n",
        "for i in metal_semiconductor.index:\n",
        "    metal_semiconductor.loc[i, 'metallic_fraction'] = \\\n",
        "      100 * metal_semiconductor.loc[i, 'n_metallic'] / metal_semiconductor.loc[i, 'n_total']\n",
        "\n",
        "fig, ax = plt.subplots(tight_layout=True, figsize=(10,6))\n",
        "metal_semiconductor['metallic_fraction'].plot(kind='bar', ax=ax, fontsize=16, legend=False)\n",
        "ax.set_ylabel('Fraction of metallic materials (%)', fontsize=16)\n",
        "ax.set_ylim(0.0, 100.0)\n",
        "ax.set_xticklabels(crystal_systems)\n",
        "plt.show()"
      ]
    },
    {
      "cell_type": "markdown",
      "metadata": {
        "id": "kfpSU_i-f_c3"
      },
      "source": [
        "## Exercise 9.1\n",
        "Plot the average bandgap based on which element is present in the crystal and pick a subset of crystals based on number of elements `n_elements` (e.g. binary, ternary,...) and/or crystal systems `crys_sys`. Change the two variables and observe the trends."
      ]
    },
    {
      "cell_type": "code",
      "execution_count": null,
      "metadata": {
        "id": "CcmnfAdVQZNq"
      },
      "outputs": [],
      "source": [
        "from statistics import mean\n",
        "crys_sys_exercise = ['triclinic', 'monoclinic', 'orthorhombic', 'tetragonal', 'trigonal', 'hexagonal', 'cubic']\n",
        "n_elements = 3\n",
        "\n",
        "bandgap_data = {}\n",
        "\n",
        "for i in mpids.index:\n",
        "    if mpids.loc[i, 'nelements'] <= n_elements and mpids.loc[i, 'symmetry.crystal_system'] in crys_sys_exercise:\n",
        "      elements = str(mpids.loc[i, 'chemsys']).split('-')\n",
        "      for el in elements:\n",
        "          if el in bandgap_data:\n",
        "              bandgap_data[el].append(mpids.loc[i, 'band_gap'])\n",
        "          else:\n",
        "              bandgap_data.setdefault(el,[]).append(mpids.loc[i, 'band_gap'])\n",
        "bandgap_data_averages = {x: mean(bandgap_data[x]) for x in bandgap_data}\n",
        "\n",
        "plt = plot_periodic_table_heatmap(bandgap_data_averages,\n",
        "                                  cbar_label=\"Average bandgap (eV)\",\n",
        "                                  cbar_label_size=16, show_plot=True,\n",
        "                                  cmap=\"YlOrRd\", cmap_range=[0,2],\n",
        "                                  value_format='%.1f')"
      ]
    },
    {
      "cell_type": "markdown",
      "metadata": {
        "id": "sDilhUvX5On7"
      },
      "source": [
        "## Exercise 9.2\n",
        "Now plot the distribution of materials for all crystal systems based on how many elements are present in the crystal (i.e. binary, ternary,...). As you increase `n_elements`, where does the distribution shift?"
      ]
    },
    {
      "cell_type": "code",
      "execution_count": null,
      "metadata": {
        "id": "bcXV8qojaqiF"
      },
      "outputs": [],
      "source": [
        "n_elements = 1\n",
        "\n",
        "crys_sys_nelements = pd.DataFrame(columns=['crystal_system', 'n', 'fraction'])\n",
        "crys_sys_nelements.loc[:, 'crystal_system'] = crystal_systems\n",
        "\n",
        "for i, cs in enumerate(crystal_systems):\n",
        "    crys_sys_nelements.loc[i, 'n'] = \\\n",
        "      mpids.loc[(mpids['symmetry.crystal_system'] == cs) & (mpids['nelements'] == n_elements), 'nelements'].count()\n",
        "for i in crys_sys_nelements.index:\n",
        "    crys_sys_nelements.loc[i, 'fraction'] = \\\n",
        "      100 * crys_sys_nelements.loc[i, 'n'] / crys_sys_nelements['n'].sum()\n",
        "\n",
        "fig, ax = plt.subplots(tight_layout=True, figsize=(10,6))\n",
        "crys_sys_nelements['fraction'].plot(kind='bar', ax=ax, fontsize=16, legend=False)\n",
        "ax.set_ylabel(f'Fraction of materials with {n_elements:d} element{\"s\" if n_elements>1 else \"\"} (%)', fontsize=15)\n",
        "ax.set_ylim(0, 100)\n",
        "ax.set_xticklabels(crystal_systems)\n",
        "plt.show()"
      ]
    }
  ],
  "metadata": {
    "colab": {
      "provenance": []
    },
    "kernelspec": {
      "display_name": "ML4MSD-Teacher",
      "language": "python",
      "name": "python3"
    },
    "language_info": {
      "codemirror_mode": {
        "name": "ipython",
        "version": 3
      },
      "file_extension": ".py",
      "mimetype": "text/x-python",
      "name": "python",
      "nbconvert_exporter": "python",
      "pygments_lexer": "ipython3",
      "version": "3.11.9"
    }
  },
  "nbformat": 4,
  "nbformat_minor": 0
}

{
 "cells": [
  {
   "cell_type": "markdown",
   "id": "ddd7168c",
   "metadata": {},
   "source": [
    "# Python Crash Course 1\n",
    "\n",
    "Here we will go over the basics of Python within a Jupyter notebook.\n",
    "\n",
    "Code can be run by clicking the \"play\" button on the left side of a cell or by pressing `Shift + Enter` when inside a cell."
   ]
  },
  {
   "cell_type": "markdown",
   "id": "54f18736",
   "metadata": {},
   "source": [
    "## Variable Types\n",
    "\n",
    "Python is dynamically typed and hence does not require specification of variable types.\n",
    "However, the user may specify the type of a variable to avoid confusion and help identify bugs before runtime (by using a linter like PyLance or Ruff). "
   ]
  },
  {
   "cell_type": "markdown",
   "id": "ffb894b3",
   "metadata": {},
   "source": [
    "### Integer"
   ]
  },
  {
   "cell_type": "code",
   "execution_count": null,
   "id": "c1a7b271",
   "metadata": {},
   "outputs": [],
   "source": [
    "# This is a comment. Unlike Matlab, where comments start with %\n",
    "integer1: int = 9  # with type annotation (optional)\n",
    "integer2 = 5  # no ; needed for end of line like in Matlab\n",
    "integer3 = -3\n",
    "integer4 = 0\n",
    "print(integer1)  # print() function to display output to console; in Matlab disp() or just variable name is used\n",
    "\n",
    "print(\"\\nSimple arithmetic operations:\")\n",
    "print(integer1 + integer2)\n",
    "print(integer2 - integer1)\n",
    "print(integer1 * integer2)\n",
    "print(integer1 % integer2) # modulus; Matlab uses mod() function instead\n",
    "print(integer1 ** integer2) # exponentiation, unlike Matlab, where ^ is used\n",
    "print(abs(integer3)) # absolute value"
   ]
  },
  {
   "cell_type": "markdown",
   "id": "1d18ce6a",
   "metadata": {},
   "source": [
    "### Float"
   ]
  },
  {
   "cell_type": "code",
   "execution_count": null,
   "id": "44b2d2fd",
   "metadata": {},
   "outputs": [],
   "source": [
    "float1: float = 4.74  # with type annotation (optional)\n",
    "float2 = 5.6\n",
    "print(float1)\n",
    "\n",
    "print(\"\\nSimple float operations:\")\n",
    "print(float2 / float1)\n",
    "print(float2 // float1)  # floor division; floorDiv() in Matlab\n",
    "print(round(float2)) # rounds to nearest integer\n",
    "print(int(float2)) # truncates to integer\n",
    "print(round(float1, 1)) # rounds to 1 decimal place"
   ]
  },
  {
   "cell_type": "markdown",
   "id": "03145873",
   "metadata": {},
   "source": [
    "### Exercise 2.1\n",
    "\n",
    "The order of operations in Python is `P`, `E`, `MD`, `AS` (Parentheses, Exponentiation, Multiplication/Division, Addition/Subtraction)\n",
    "\n",
    "Create the following output:\n",
    "\n",
    "$$r = \\frac{a\\cdot b^{d+e}+c+7.3}{1+c\\cdot (a^d+c\\cdot b^{e+1})+a}$$"
   ]
  },
  {
   "cell_type": "code",
   "execution_count": null,
   "id": "d5f7f8e3",
   "metadata": {},
   "outputs": [],
   "source": [
    "a = 3.2\n",
    "b = 0.2\n",
    "c = 7.5\n",
    "d = 3\n",
    "e = 5\n",
    "\n",
    "#r = \n",
    "# print(f\"{r=:.4f}\")  # r=0.0592"
   ]
  },
  {
   "cell_type": "markdown",
   "id": "d85e5acf",
   "metadata": {},
   "source": [
    "### String"
   ]
  },
  {
   "cell_type": "code",
   "execution_count": null,
   "id": "4359b1e1",
   "metadata": {},
   "outputs": [],
   "source": [
    "string1: str = \"Hello\"  # with type annotation (optional)\n",
    "string2 = ' World '\n",
    "print(string1)\n",
    "\n",
    "print(\"\\nString operations:\")\n",
    "print(string1 + string2)\n",
    "print(string2 * 3)\n",
    "print(string1.lower())\n",
    "print(string1.upper())\n",
    "print(string2.strip())  # removes leading and trailing whitespace \n",
    "# rstrip() lstrip() for right/left only\n",
    "print(string1.replace(\"l\", \"p\"))\n",
    "print(string1.replace(\"l\", \"p\", 1)) # only first occurrence"
   ]
  },
  {
   "cell_type": "code",
   "execution_count": null,
   "id": "33ca8728",
   "metadata": {},
   "outputs": [],
   "source": [
    "print(\"This is a string with a newline character.\\nSee? And this is a tab:\\tHere.\")\n",
    "print(\"Escaping characters: \\\\ (backslash), \\' (single quote), \\\" (double quote)\")\n",
    "print(r\"This is a raw string where \\n and \\t are not treated specially.\")"
   ]
  },
  {
   "cell_type": "markdown",
   "id": "8679d0d6",
   "metadata": {},
   "source": [
    "### f-String formatting\n",
    "Here are a few examples, but for a more comprehensive sheet of formatting options check out this [page](https://fstring.help/cheat/)."
   ]
  },
  {
   "cell_type": "code",
   "execution_count": null,
   "id": "4eaeeb43",
   "metadata": {},
   "outputs": [],
   "source": [
    "float_value = 3.14159\n",
    "integer_value = 42\n",
    "string_value = \"example\"\n",
    "print(f\"Float: {float_value}, Integer: {integer_value}, String: '{string_value}'\")\n",
    "print(f\"{float_value=}, {integer_value=}, {string_value=}\")\n",
    "print(f\"Float rounded to 2 decimal places: {float_value:.2f}\")\n",
    "print(f\"Integer in hex: {integer_value:x}\")"
   ]
  },
  {
   "cell_type": "markdown",
   "id": "9054c447",
   "metadata": {},
   "source": [
    "### Other String Formatting\n",
    "\n",
    "Further examples [here](https://mkaz.blog/working-with-python/string-formatting)."
   ]
  },
  {
   "cell_type": "code",
   "execution_count": null,
   "id": "43f37d75",
   "metadata": {},
   "outputs": [],
   "source": [
    "print(float_value, integer_value, string_value)\n",
    "print(float_value, integer_value, string_value, sep=\" | \", end=\" << End of line\\n\")\n",
    "print(\"{} - {} - {}\".format(float_value, integer_value, string_value))\n",
    "print(\"{0} - {0} - {0}\".format(integer_value))  # same value multiple times\n",
    "print(\"%.2f - %d - %s\" % (float_value, integer_value, string_value))  # outdated style"
   ]
  },
  {
   "cell_type": "markdown",
   "id": "9820bbf0",
   "metadata": {},
   "source": [
    "### Boolean"
   ]
  },
  {
   "cell_type": "code",
   "execution_count": null,
   "id": "925e7154",
   "metadata": {},
   "outputs": [],
   "source": [
    "boolean1: bool = True  # with type annotation (optional)\n",
    "boolean2 = False\n",
    "print(f\"{boolean1=}, {boolean2=}\")\n",
    "\n",
    "print(\"\\nOperations on booleans:\")\n",
    "print(not boolean2)\n",
    "print(boolean1 and boolean2)\n",
    "print(boolean1 or boolean2)\n",
    "\n",
    "print(\"\\nBooleans are represented as integers 1 and 0 for true and false, respectively\")\n",
    "print(int(boolean1))\n",
    "print(int(boolean2))\n",
    "print(boolean1 + boolean2)\n",
    "print(boolean1 * 5)"
   ]
  },
  {
   "cell_type": "markdown",
   "id": "9828ffe2",
   "metadata": {},
   "source": [
    "### None"
   ]
  },
  {
   "cell_type": "code",
   "execution_count": null,
   "id": "1ec60770",
   "metadata": {},
   "outputs": [],
   "source": [
    "variable = None  # special None value, similar to null in other languages\n",
    "print(variable)\n",
    "print(variable is None)  # check for None\n",
    "print(variable is not None)\n",
    "print(variable == None)  # not recommended!"
   ]
  },
  {
   "cell_type": "markdown",
   "id": "65626148",
   "metadata": {},
   "source": [
    "### Type Conversions"
   ]
  },
  {
   "cell_type": "code",
   "execution_count": null,
   "id": "61a52b37",
   "metadata": {},
   "outputs": [],
   "source": [
    "print(f\"{float('4.3')} is of {type(float('4.3'))}\")  # String to float\n",
    "print(f\"{float(7)} is of {type(float(7))}\")  # Int to float\n",
    "print(f\"{int('42')} is of {type(int('42'))}\")  # String to int\n",
    "print(f\"{str(3.14)} is of {type(str(3.14))}\")   # Float to string\n",
    "print(f\"{str(100)} is of {type(str(100))}\")   # Int to string\n",
    "print(f\"{str(True)} is of {type(str(True))}\")  # Bool to string"
   ]
  },
  {
   "cell_type": "markdown",
   "id": "d580b4e6",
   "metadata": {},
   "source": [
    "### About Type Annotation\n",
    "They are optional and won't raise an error during runtime. However, the type-checker (linter) will warn you beforehand."
   ]
  },
  {
   "cell_type": "code",
   "execution_count": null,
   "id": "61bdb901",
   "metadata": {},
   "outputs": [],
   "source": [
    "variable: int = 10.2 \n",
    "print(variable)  # This will not raise an error, but linter will complain"
   ]
  },
  {
   "cell_type": "markdown",
   "id": "168a9347",
   "metadata": {},
   "source": [
    "### Exercise 2.2\n",
    "\n",
    "See the following information about an materials experiment stored in the variables.\n",
    "- Change the material name from British to American spelling by replacing the appropriate letters and change them to lower case.\n",
    "- The density is in g/cm3. Convert it to kg/cm3 and use scientific string formatting with f-strings. \n",
    "- Print out a single sentence summarizing this information: \"Material X with sample ID Y has a density of Z kg/cm3.\"\n",
    "- Print out the types of the 3 variables."
   ]
  },
  {
   "cell_type": "code",
   "execution_count": null,
   "id": "2cd53718",
   "metadata": {},
   "outputs": [],
   "source": [
    "material = \"ALUMINIUM\"\n",
    "sample_id = 117\n",
    "density = 2.70  # in g/cm3\n",
    "\n",
    "# Write your code here:"
   ]
  }
 ],
 "metadata": {
  "kernelspec": {
   "display_name": "ML4MSD-Teacher",
   "language": "python",
   "name": "python3"
  },
  "language_info": {
   "codemirror_mode": {
    "name": "ipython",
    "version": 3
   },
   "file_extension": ".py",
   "mimetype": "text/x-python",
   "name": "python",
   "nbconvert_exporter": "python",
   "pygments_lexer": "ipython3",
   "version": "3.11.9"
  }
 },
 "nbformat": 4,
 "nbformat_minor": 5
}

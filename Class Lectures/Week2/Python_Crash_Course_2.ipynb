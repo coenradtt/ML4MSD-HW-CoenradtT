{
 "cells": [
  {
   "cell_type": "markdown",
   "id": "ddd7168c",
   "metadata": {},
   "source": [
    "# Python Crash Course 2\n",
    "\n",
    "Here we will continue to go over the basics of Python within a Jupyter notebook."
   ]
  },
  {
   "cell_type": "markdown",
   "id": "e1c02252",
   "metadata": {},
   "source": [
    "## Lists\n",
    "Denoted by square brackets []. Lists are **mutable**."
   ]
  },
  {
   "cell_type": "code",
   "execution_count": null,
   "id": "209c4b76",
   "metadata": {},
   "outputs": [],
   "source": [
    "list1: list[int] = [1, 2, 7, 3]\n",
    "list2 = [\"a\", \"b\", \"c\"]\n",
    "list3 = [1, \"a\", 3.5, True]  # mixed types, but generally not recommended (hints at fundamental design issue)\n",
    "list4 = [1]  # single element list\n",
    "empty_list = []\n",
    "\n",
    "string_sequence = \"Python\"\n",
    "print(\"Strings and lists are both sequences, but strings are immutable while lists are mutable.\")\n",
    "print(f\"First character of string_sequence: {string_sequence[0]}\")\n",
    "print(f\"Last character of string_sequence: {string_sequence[-1]}\")\n",
    "print(f\"Length of string_sequence: {len(string_sequence)}\")\n",
    "# This would raise an error: string_sequence[0] = 'p'  # strings are immutable\n",
    "\n",
    "print(\"\\nAccessing list information:\")\n",
    "print(list1)\n",
    "print(f\"First element of list1: {list1[0]}\")  # List indices start at 0 unlike Matlab, where they start at 1\n",
    "print(f\"Last element of list1: {list1[-1]}\")  # list1[-2] for second last element, etc.\n",
    "print(f\"Length of list1: {len(list1)}\")\n",
    "\n",
    "print(\"\\nBuilt-in functions for lists:\")\n",
    "print(f\"{min(list1)=}\")\n",
    "print(f\"{max(list1)=}\")\n",
    "print(f\"{sum(list1)=}\")\n",
    "print(f\"{len(list1)=}\")\n",
    "list1_reversed = reversed(list1)  # list1 remains unchanged\n",
    "print(f\"Reversed list1: {list(list1_reversed)}\")\n",
    "list1_sorted = sorted(list1)  # list1 remains unchanged\n",
    "print(f\"Sorted list1: {list1_sorted}\")\n",
    "\n",
    "print(\"\\nJoining list of strings:\")\n",
    "joined_string = \"-\".join(list2)  # join\n",
    "print(f\"List to string: {joined_string}\")"
   ]
  },
  {
   "cell_type": "code",
   "execution_count": null,
   "id": "ef7cbd6e",
   "metadata": {},
   "outputs": [],
   "source": [
    "print(\"Modifying lists:\")\n",
    "list1 = [1, 2, 3]  # reset list1\n",
    "print(f\"Original list1: {list1}\")\n",
    "list1[0] = 9  # lists are mutable, unlike strings. \n",
    "print(f\"list1 after changing first element to 9: {list1}\")\n",
    "list1.append(4)  # add element to end of list\n",
    "print(f\"list1 after appending 4: {list1}\")\n",
    "list1.insert(1, 7)  # insert element at index 1\n",
    "print(f\"list1 after inserting 7 at index 1: {list1}\")\n",
    "list1.remove(3)  # remove first occurrence of value 3\n",
    "print(f\"list1 after removing value 3: {list1}\")\n",
    "popped_value = list1.pop(3)  # remove and return element at index 3\n",
    "print(f\"Popped value: {popped_value} and list1 after popping index 3: {list1}\")\n",
    "print(f\"Index of value 7 in list1: {list1.index(7)}\")\n",
    "list1.sort()  # sort list in place (unlike sorted(list1) function)\n",
    "print(f\"Sorted list1: {list1}\")\n",
    "list1.reverse()  # reverse list in place (unlike reversed(list1) function)\n",
    "print(f\"Reversed list1: {list1}\")\n",
    "list1.extend([8, 6, 5, 5])  # extend list by appending elements from another list\n",
    "print(f\"Extended list1: {list1}\")\n",
    "print(f\"Number of occurrences of 5 in list1: {list1.count(5)}\")\n",
    "list1.clear()  # remove all elements from list\n",
    "print(f\"Cleared list1: {list1}\")"
   ]
  },
  {
   "cell_type": "markdown",
   "id": "8c5277ce",
   "metadata": {},
   "source": [
    "### List Slicing\n",
    "This is a useful approach to access \"slices\" (or sub-lists) of a list. The indexing can be a bit confusing though because it is different to Matlab.\n",
    "\n",
    "| List Index | Python | Matlab |\n",
    "| :------- | :------: | :-------: |\n",
    "| First Index | 0  | 1  |\n",
    "| First index specified in slice (start) | Inclusive  | Inclusive  |\n",
    "| Last index specified in slice (end) | Exclusive  | Inclusive  |\n",
    "\n",
    "For a more detailed explanation of all slicing aspects, please have a look [here](https://bas.codes/posts/python-slicing). The image below was taken from the same source.\n",
    "\n",
    "![List indexing and slices](./images/list_indexing.JPG)"
   ]
  },
  {
   "cell_type": "code",
   "execution_count": null,
   "id": "3a99e66e",
   "metadata": {},
   "outputs": [],
   "source": [
    "slicing_list = list(\"Python\")\n",
    "print(f\"Slicing list created from string 'Python': {slicing_list}\")\n",
    "print(f\"First two elements: {slicing_list[0:2]}\")  # in Matlab slicing is done with (1:2)\n",
    "print(f\"Elements from index 2 to end: {slicing_list[2:]}\")\n",
    "print(f\"Elements from start to index 3 (exclusive): {slicing_list[:3]}\")\n",
    "print(f\"Last two elements: {slicing_list[-2:]}\")"
   ]
  },
  {
   "cell_type": "code",
   "execution_count": null,
   "id": "0f8bf738",
   "metadata": {},
   "outputs": [],
   "source": [
    "slicing_list = list(\"Python\")\n",
    "print(\"The general slice object can be used to specify start, stop, and step.\")\n",
    "slice_obj = slice(1, 7, 2)  # start at index 1, stop before index 5, step by 2\n",
    "print(slicing_list[slice_obj])\n",
    "print(slicing_list[1:7:2])  # equivalent slicing syntax\n",
    "print(slicing_list[::2])  # every second element even entries\n",
    "print(slicing_list[1::2])  # every second element odd entries\n",
    "print(slicing_list[::-1])  # reversed list\n",
    "print(slicing_list[1:])  # every element except first element\n",
    "print(slicing_list[:-1])  # every element except last element\n",
    "print(slicing_list[1:-1])  # every element except first and last element"
   ]
  },
  {
   "cell_type": "code",
   "execution_count": null,
   "id": "d5a7d79c",
   "metadata": {},
   "outputs": [],
   "source": [
    "slicing_list = list(\"Python\")\n",
    "print(\"Slicing can be used to create a copy of the entire list.\")\n",
    "list_copy = slicing_list[:]  # shallow copy of the entire list; be careful with nested lists and instead use deepcopy() [from copy import deepcopy]\n",
    "list_copy2 = slicing_list.copy()  # equivalent method to create a shallow copy\n",
    "print(list_copy, list_copy2)\n",
    "\n",
    "print(\"\\nDon't copy lists by simple assignment, as this creates a new reference to the same list:\")\n",
    "fake_copy = slicing_list  # this does NOT create a copy, but a new reference to the same list\n",
    "print(f\"Modifying `fake_copy` also modifies slicing_list: before {slicing_list}\")\n",
    "fake_copy[0] = \"J\"\n",
    "print(f\"After modifying fake_copy, {slicing_list=} has changed as well.\")\n",
    "print(f\"The id() function shows that both variables point to the same object: {id(slicing_list)} and {id(fake_copy)}\")\n",
    "print(f\"Whereas the copies point to different objects: {id(slicing_list)} and {id(list_copy)}\")"
   ]
  },
  {
   "cell_type": "markdown",
   "id": "02cc2128",
   "metadata": {},
   "source": [
    "### Exercise 2.3\n",
    "\n",
    "For the following experimental tensile test results (elongation in mm):\n",
    "- Print out the index location that resulted in an elongation of 2.8 mm.\n",
    "- Measurements 3 and 4 were incorrect. Create a copy of the original list and replace the incorrect ones with [0.4, 0.6].\n",
    "- Print out the first 4 measurements.\n",
    "- Print out the last 2 measurements.\n",
    "- Print out every fifth measurement starting with the first one.\n",
    "- The last measurement was also incorrect, remove it from the final list and print the wrong value to the console\n",
    "- Print out the minimum and maximum of the elongations and the total number of measurements."
   ]
  },
  {
   "cell_type": "code",
   "execution_count": null,
   "id": "46604181",
   "metadata": {},
   "outputs": [],
   "source": [
    "elongation = [0.0, 0.2, 0.5, 0.9, 1.4, 2.0, 2.8, 3.7, 4.5, 5.0, 5.7, 8.2]\n",
    "corrected_measurements = [0.4, 0.6]\n",
    "\n",
    "# Your code below:"
   ]
  },
  {
   "cell_type": "markdown",
   "id": "ea66738e",
   "metadata": {},
   "source": [
    "## `for` Loops\n",
    "\n",
    "Commonly we will need to loop through lists which is typically done with `for` loops."
   ]
  },
  {
   "cell_type": "code",
   "execution_count": null,
   "id": "df81dab1",
   "metadata": {},
   "outputs": [],
   "source": [
    "example_list = [\"cat\", \"dog\", \"mouse\", \"elephant\"]\n",
    "n_letters = []\n",
    "for animal in example_list:\n",
    "    print(f\"Animal: {animal}, which has {len(animal)} letters.\")\n",
    "    n_letters.append(len(animal))\n",
    "\n",
    "print(f\"\\nIterate over two lists in parallel using zip():\")\n",
    "for animal, n in zip(example_list, n_letters):\n",
    "    print(f\"Animal: {animal}, which has {n} letters.\")\n",
    "\n",
    "print(\"\\nUsing enumerate() to get index and value of list:\")\n",
    "for index, animal in enumerate(example_list):\n",
    "    print(f\"Animal {index}: {animal}, which has {len(animal)} letters.\")\n",
    "\n",
    "print(\"\\nAlternative way 1 to get index and value of list:\")\n",
    "for index in range(len(example_list)):\n",
    "    animal = example_list[index]\n",
    "    print(f\"Animal {index}: {animal}, which has {len(animal)} letters.\")\n",
    "\n",
    "print(\"\\nAlternative way 2 to get index and value of list:\")\n",
    "index = 0\n",
    "for animal in example_list:\n",
    "    print(f\"Animal {index}: {animal}, which has {len(animal)} letters.\")\n",
    "    index += 1  # Same as `index = index + 1`"
   ]
  },
  {
   "cell_type": "code",
   "execution_count": null,
   "id": "ead333ce",
   "metadata": {},
   "outputs": [],
   "source": [
    "print(\"\\nUsing range() to loop a specific number of times:\")\n",
    "stop = 5\n",
    "for i in range(stop):  # range(n) generates integers from index 0 to stop-1\n",
    "    print(f\"Iteration {i+1} of {stop}\")\n",
    "\n",
    "print(\"\\nUsing range() with custom start, stop, and step:\")\n",
    "start = 2\n",
    "step = 2\n",
    "for i in range(start, stop, step):  # range(n) generates integers from index 2 to stop-1, in steps of 2\n",
    "    print(f\"Iteration {i+1} of {stop}\")\n",
    "\n",
    "print(\"\\nNested loops:\")\n",
    "for i in range(3):\n",
    "    for j in range(2):\n",
    "        print(i, j)"
   ]
  },
  {
   "cell_type": "markdown",
   "id": "830bd42a",
   "metadata": {},
   "source": [
    "## Logic\n",
    "However, we often need to check whether certain cases apply (while looping, for example). This is done with `if`, `else`, `elif`, `finally` in Python.\n",
    "\n",
    "### Comparisons, Logical Statements, and Member Checks\n",
    "\n",
    "In these logical checks we need to generate a boolean information, typically through comparison operators, logical statements, or member checks."
   ]
  },
  {
   "cell_type": "code",
   "execution_count": null,
   "id": "75f3d8db",
   "metadata": {},
   "outputs": [],
   "source": [
    "print(\"Comparison operators:\")\n",
    "print(5 == 5)      # True, equality\n",
    "print(5 != 3)      # True, inequality\n",
    "print(5 > 3)       # True, greater than\n",
    "print(5 < 3)       # False, less than\n",
    "print(5 >= 5)      # True, greater than or equal to\n",
    "print(5 <= 2)      # False, less than or equal to\n",
    "\n",
    "print(\"\\nLogical operators (saw that earlier already)\")\n",
    "print(True and False)   # False\n",
    "print(True and True)    # True\n",
    "print(False and False)  # False\n",
    "print(True or False)    # True\n",
    "print(True or True)     # True\n",
    "print(False or False)   # False\n",
    "print(not True)         # False\n",
    "\n",
    "print(\"\\nMembership operators\")\n",
    "print(3 in [1, 2, 3])        # True\n",
    "print(\"x\" in \"text\")         # True\n",
    "print(4 not in [1, 2, 3])    # True"
   ]
  },
  {
   "cell_type": "markdown",
   "id": "d7211133",
   "metadata": {},
   "source": [
    "### Identity operators, Type checks, Truthiness, and other boolean-returning functions"
   ]
  },
  {
   "cell_type": "code",
   "execution_count": null,
   "id": "87f0bbc7",
   "metadata": {},
   "outputs": [],
   "source": [
    "print(\"Identity operators:\")\n",
    "a = 2\n",
    "b = a\n",
    "print(a is b)       # True\n",
    "b = 3\n",
    "print(a is b)       # False\n",
    "print(a is not b)   # True\n",
    "\n",
    "print(\"\")\n",
    "list_a = [1, 2]\n",
    "list_b = list_a\n",
    "list_c = list_a.copy()\n",
    "list_d = [1, 2]\n",
    "print(list_a is list_b)  # True (same object)\n",
    "print(list_a is list_c)  # False (different objects, but same content)\n",
    "print(list_a is list_d)  # False (different objects, but same content)\n",
    "\n",
    "print(\"\\nType checks & built-ins:\")\n",
    "print(isinstance(5, int))     # True\n",
    "print(issubclass(bool, int))  # True\n",
    "print(callable(len))          # True\n",
    "\n",
    "print(\"\\nTruthiness conversion:\")\n",
    "print(bool([]))       # False (empty list)\n",
    "print(bool([1]))      # True\n",
    "print(bool(\"\"))       # False (empty string)\n",
    "print(bool(\"hi\"))     # True\n",
    "print(bool(0))        # False\n",
    "print(bool(0.0))      # False\n",
    "print(bool(-2))       # True\n",
    "print(bool(3.5))      # True\n",
    "print(bool(None))     # False\n",
    "\n",
    "print(\"\\nOther functions returning booleans:\")\n",
    "print(any([0, 0, 1]))       # True (at least one truthy)\n",
    "print(all([1, 2, 3]))       # True (all truthy)\n",
    "print(\"hello\".startswith(\"he\"))  # True\n",
    "print(\"123\".isdigit())  # True\n",
    "print(\"abc\".isalpha())  # True"
   ]
  },
  {
   "cell_type": "markdown",
   "id": "01c07910",
   "metadata": {},
   "source": [
    "### `for` and `while` Loops with Logical Checks"
   ]
  },
  {
   "cell_type": "code",
   "execution_count": null,
   "id": "23c4a6ab",
   "metadata": {},
   "outputs": [],
   "source": [
    "print(\"Find numbers divisible by 2 and 3:\")\n",
    "for i in range(1, 20):\n",
    "    if i % 2 == 0 and i % 3 == 0:\n",
    "        print(i)\n",
    "\n",
    "print(\"\\nFind first negative numbers in a list:\")\n",
    "numbers = [4, 7, -2, 9, 12]\n",
    "for n in numbers:\n",
    "    if n < 0:\n",
    "        print(f\"Found negative: {n} at index {numbers.index(n)}\")\n",
    "        break  # exit loop after first negative number\n",
    "\n",
    "print(\"\\nUsing while loop to sum numbers where the step increase by 1 each loop, until total exceeds 20:\")\n",
    "total = 0\n",
    "step = 1\n",
    "while total <= 20:   # logical check\n",
    "    total += step\n",
    "    print(f\"Added {step}, total is now {total}\")\n",
    "    step += 1\n",
    "\n",
    "print(\"\\nUse continue to skip even numbers:\")\n",
    "for i in range(10):\n",
    "    if i % 2 == 0:\n",
    "        continue  # skip even numbers\n",
    "    print(i)  # only odd numbers will be printed"
   ]
  },
  {
   "cell_type": "code",
   "execution_count": null,
   "id": "2958a19e",
   "metadata": {},
   "outputs": [],
   "source": [
    "print(\"\\nUsing `else` with loops:\")\n",
    "numbers = [3, 7, 0, -1, 9, 2]\n",
    "\n",
    "for n in numbers:\n",
    "    if n == 0:\n",
    "        continue   # skip zeros\n",
    "    if n < 0:\n",
    "        print(\"Negative number found:\", n)\n",
    "        break      # stop the loop if negative\n",
    "    print(\"Processing:\", n)\n",
    "else:\n",
    "    # This runs only if the loop didn't break\n",
    "    print(\"All numbers processed successfully (no negatives found).\")"
   ]
  },
  {
   "cell_type": "markdown",
   "id": "c55ccaf7",
   "metadata": {},
   "source": [
    "You can even define variables conditionally in a single line:"
   ]
  },
  {
   "cell_type": "code",
   "execution_count": null,
   "id": "280b061c",
   "metadata": {},
   "outputs": [],
   "source": [
    "counter = 9\n",
    "variable = 10 if counter > 7 else 20\n",
    "print(f\"{variable=}\")\n",
    "\n",
    "# Same as:\n",
    "if counter > 7:\n",
    "    variable = 10\n",
    "else:\n",
    "    variable = 20\n",
    "print(f\"{variable=}\")"
   ]
  },
  {
   "cell_type": "markdown",
   "id": "96dd96cf",
   "metadata": {},
   "source": [
    "### Exercise 2.4\n",
    "For the measurements in exercise 3, loop through the list with `for` loops and:\n",
    "- Save all elongations less than 2 mm in one list, all elongations >2mm and <4mm in another list, and all elongations large than 4 mm in a third list\n",
    "- With another for loop, print out the *first* elongation value that is larger than 4mm and the corresponding list index\n",
    "- Manually calculate the sum of this list with a `while` loop\n",
    "- Do that again but with a `for` loop"
   ]
  },
  {
   "cell_type": "code",
   "execution_count": null,
   "id": "ce179ec2",
   "metadata": {},
   "outputs": [],
   "source": [
    "elongation_corrected = [0.0, 0.2, 0.5, 0.4, 0.6, 2.0, 2.8, 3.7, 4.5, 5.0, 5.7]\n",
    "\n",
    "# Your code below:"
   ]
  },
  {
   "cell_type": "markdown",
   "id": "c5d88279",
   "metadata": {},
   "source": [
    "## Tuples\n",
    "Denoted by regular brackets (). Tuples are **immutable**, meaning they cannot be changed after creation."
   ]
  },
  {
   "cell_type": "code",
   "execution_count": null,
   "id": "719d213e",
   "metadata": {},
   "outputs": [],
   "source": [
    "tuple1: tuple[int, int, int] = (1, 2, 3)\n",
    "tuple2 = (\"a\", \"b\", \"c\")\n",
    "tuple3 = (1, \"a\", 3.5, True)\n",
    "tuple4 = (1,)  # single element tuple needs a comma\n",
    "empty_tuple = ()\n",
    "print(f\"\\nTuples: {tuple1=}, {tuple2=}\")\n",
    "\n",
    "print(\"\\nAccessing tuple information:\")\n",
    "print(tuple1[0])\n",
    "print(len(tuple3))\n",
    "print(\"\\nConcatenation and repetition:\")\n",
    "print(tuple1 + tuple2)\n",
    "print(tuple1 * 2)\n",
    "# tuple1[0] = 10  # This would raise an error since tuples are immutable\n",
    "\n",
    "print(\"\\nUnpacking tuples:\")\n",
    "a, b, c = tuple1\n",
    "print(a, b, c)\n",
    "a, *rest = tuple1\n",
    "print(a, rest)\n",
    "first, *middle, last = tuple3  # ignore middle value\n",
    "print(first, middle, last)\n"
   ]
  },
  {
   "cell_type": "markdown",
   "id": "04aba132",
   "metadata": {},
   "source": [
    "## Sets\n",
    "Uses curly brackets {}. Each entry is unique. Sets are **mutable**."
   ]
  },
  {
   "cell_type": "code",
   "execution_count": null,
   "id": "55a4a56e",
   "metadata": {},
   "outputs": [],
   "source": [
    "set1: set[int] = {1, 2, 3}\n",
    "set2 = {3, 4, 5, 10}\n",
    "empty_set = set()  # correct way to create an empty set, because {} creates an empty dictionary\n",
    "print(f\"\\nSets: {set1=}, {set2=}\")\n",
    "set1.add(4)\n",
    "print(f\"Set1 after adding 4: {set1}\")\n",
    "set1.remove(2)  # raises an error if 2 is not present\n",
    "print(f\"Set1 after removing 2: {set1}\")\n",
    "set1.discard(5)  # does not raise an error if 5 is not present\n",
    "print(f\"Set1 after discarding 5: {set1}\")\n",
    "set1.update({1, 5, 6})\n",
    "print(f\"Set1 after updating with 5 and 6: {set1}\")\n",
    "print(f\"Union: {set1 | set2}, Intersection: {set1 & set2}, \"\n",
    "      f\"Difference: {set1 - set2}, Symmetric Difference: {set1 ^ set2}\")\n",
    "print(f\"Length of Set1: {len(set1)}\")\n",
    "print(f\"set1 contains 3: {3 in set1}, set1 contains 10: {10 in set1}\")\n",
    "print(f\"set1 is subset of set2: {set1 <= set2} or equally {set1.issubset(set2)}, \"\n",
    "      f\"set1 is superset of set2: {set1 >= set2} or equally {set1.issuperset(set2)}\")\n",
    "print(f\"set1 is disjoint with set2: {set1.isdisjoint(set2)}\")\n",
    "print(f\"set1 is disjoint with set containing 10, 11: {set1.isdisjoint({10, 11})}\")\n"
   ]
  },
  {
   "cell_type": "markdown",
   "id": "02c53b86",
   "metadata": {},
   "source": [
    "## Dictionaries\n",
    "Also uses curly brackets {}, but contains key/value pairs. Dictionaries are **mutable**.\n",
    "\n",
    "Keys can be of type string or integer (or even float but I wouldn't recommend that). The types can even be mixed between keys but I would not recommend doing that.\n",
    "\n",
    "Values can be of pretty much of any type (int, str, float, lists, dictionaries,...)"
   ]
  },
  {
   "cell_type": "code",
   "execution_count": null,
   "id": "4263f9b6",
   "metadata": {},
   "outputs": [],
   "source": [
    "dictionary1: dict[str, str] = {'key1': 'value1', 'key2': 'value2'}  # with type annotation (optional)\n",
    "dictionary2 = {'keyA': 1, 'keyB': 2}\n",
    "dictionary_not_recommended = {1: 'value1', 'key2': 2, 2.7: True}  # mixed key types, not recommended\n",
    "empty_dict = {}\n",
    "print(f\"{dictionary1=}\\n{dictionary2=}\\n{dictionary_not_recommended=}\")\n",
    "\n",
    "print(\"\\nAccessing dictionary information:\")\n",
    "print(dictionary1['key1'])\n",
    "print(dictionary2.get('keyB', 'Not Found'))  # access values with fallback value\n",
    "print(dictionary2.get('keyC', 'Not Found'))\n",
    "\n",
    "print(\"\\nChanging dictionaries:\")\n",
    "dictionary1['key3'] = 'value3'  # add new key-value pair\n",
    "print(dictionary1)\n",
    "dictionary2['keyA'] = 42  # modify existing key-value pair\n",
    "print(dictionary2)\n",
    "del dictionary1['key2']  # delete key-value pair\n",
    "print(dictionary1)\n",
    "dictionary2.pop('keyB', None)  # delete key-value pair with fallback\n",
    "print(dictionary2)\n",
    "dictionary1.update({'key1': 'new', 'key5': 'value5'})  # merge/update\n",
    "print(dictionary1)\n",
    "dictionary1.clear()  # clear all items\n",
    "print(dictionary1)"
   ]
  },
  {
   "cell_type": "markdown",
   "id": "213feeb9",
   "metadata": {},
   "source": [
    "### Looping through dictionaries"
   ]
  },
  {
   "cell_type": "code",
   "execution_count": null,
   "id": "b7de1396",
   "metadata": {},
   "outputs": [],
   "source": [
    "print(\"\\nIterating over dictionaries:\")\n",
    "dictionary3 = {'a': 1, 'b': 2, 'c': 3}\n",
    "\n",
    "for key in dictionary3:\n",
    "    print(f\"Key: {key}\")\n",
    "\n",
    "# Same as\n",
    "for key in dictionary3.keys():\n",
    "    print(f\"Key: {key}\")\n",
    "\n",
    "# Only values\n",
    "for value in dictionary3.values():\n",
    "    print(f\"Value: {value}\")\n",
    "\n",
    "# Access both keys and values\n",
    "for key, value in dictionary3.items():\n",
    "    print(f\"Key: {key}, Value: {value}\")\n",
    "\n",
    "# Alternative way to access both keys and values\n",
    "for key in dictionary3:\n",
    "    print(f\"Key: {key}, Value: {dictionary3[key]}\")"
   ]
  },
  {
   "cell_type": "markdown",
   "id": "980cb000",
   "metadata": {},
   "source": [
    "## Conversion between lists, tuples, sets, strings, and dictionaries\n",
    "\n",
    "All these formats are so-called iterables, and can be easily converted into each other:\n",
    "\n",
    "| From           | To `[1, 2, 3]`            | To `(1, 2, 3)`              | To `{1, 2, 3}`              | To `{1: \"a\", 2: \"b\"}`                          |\n",
    "|------------------|----------------------------|-----------------------------|-----------------------------|------------------------------------------------|\n",
    "| **`[1, 2, 3]`**  | same                       | `tuple([1, 2, 3])`          | `set([1, 2, 3])`            | `dict([(1,\"a\"), (2,\"b\")])`  (for pairs) |\n",
    "| **`(1, 2, 3)`**  | `list((1, 2, 3))`          | same                        | `set((1, 2, 3))`            | `dict(((1,\"a\"), (2,\"b\")))`  (for pairs) |\n",
    "| **`{1, 2, 3}`**  | `list({1, 2, 3})`          | `tuple({1, 2, 3})`          | same                        | `dict({(1,\"a\"), (2,\"b\")})`  (for pairs)   |\n",
    "| **`{1:\"a\", 2:\"b\"}`** | `list({1:\"a\", 2:\"b\"})` → `[1, 2]` | `tuple({1:\"a\", 2:\"b\"})`  → `(1, 2)` | `set({1:\"a\",2:\"b\"})`  → `{1, 2}` | same                                           |\n",
    "| **`\"abc\"`**      | `list(\"abc\")` → `['a', 'b', 'c']` | `tuple(\"abc\")` → `('a', 'b', 'c')` | `set(\"abc\")` → `{'a', 'b', 'c'}` | invalid                  |\n",
    "\n",
    "And they can all be looped through with a `for` loop.\n"
   ]
  },
  {
   "cell_type": "code",
   "execution_count": null,
   "id": "e7ef4d74",
   "metadata": {},
   "outputs": [],
   "source": [
    "print(\"\\nIterating over iterables:\")\n",
    "example_dict = {1: 'one', 2: 'two', 3: 'three'}\n",
    "example_list = [1, 2, 3]\n",
    "example_tuple = (1, 2, 3)\n",
    "example_set = {1, 2, 3}\n",
    "for key in example_dict:\n",
    "    print(f\"Dict key: {key}, value: {example_dict[key]}\")\n",
    "for item in example_list:\n",
    "    print(f\"List item: {item}\")\n",
    "for item in example_tuple:\n",
    "    print(f\"Tuple item: {item}\")\n",
    "for item in example_set:\n",
    "    print(f\"Set item: {item}\")"
   ]
  },
  {
   "cell_type": "markdown",
   "id": "9123f498",
   "metadata": {},
   "source": [
    "### Exercise 2.5\n",
    "Create a dicionary for three (or more) students (e.g., you and your left and right neighbor) that contains each student's name as keys and a list of courses that each student attends this Fall as a list (see example below). \n",
    "\n",
    "- Write code to identify the unique courses.\n",
    "- Create a dictionary that has each unique course as a key and the number of students that attend it as values "
   ]
  },
  {
   "cell_type": "code",
   "execution_count": null,
   "id": "5d3f8d52",
   "metadata": {},
   "outputs": [],
   "source": [
    "courses = {'Peter': ['ML4MSD', 'Thermodynamics'],\n",
    "           'Alice': ['ML4MSD', 'Data Science'],\n",
    "           'Bob': ['Thermodynamics', 'Data Science', 'Quantum Mechanics']}  # change this to actual names and courses of you and your neighbors\n",
    "\n",
    "# Your code below:"
   ]
  },
  {
   "cell_type": "markdown",
   "id": "0d3a9519",
   "metadata": {},
   "source": [
    "## List, Set, and Dictionary Comprehensions\n",
    "\n",
    "Simple `for` loops with conditional statements can be written in a single line as a so-called list comprehensions."
   ]
  },
  {
   "cell_type": "code",
   "execution_count": null,
   "id": "ca40c8fa",
   "metadata": {},
   "outputs": [],
   "source": [
    "# List comprehension: create a list of squares for numbers 0 to 9\n",
    "squares = [x**2 for x in range(10)]\n",
    "print(f\"Squares: {squares}\")\n",
    "\n",
    "# List comprehension with condition: even numbers from 0 to 9\n",
    "evens = [x for x in range(10) if x % 2 == 0]\n",
    "print(f\"Evens: {evens}\")\n",
    "\n",
    "else_evens = [x if x % 2 == 0 else None for x in range(10)]\n",
    "print(f\"Evens with else (None for odd): {else_evens}\")\n",
    "\n",
    "# Dictionary comprehension: map numbers to their squares for 0 to 9\n",
    "squares_dict = {x: x**2 for x in range(10)}\n",
    "print(f\"Squares dict: {squares_dict}\")\n",
    "\n",
    "# Dictionary comprehension with condition: only even numbers\n",
    "evens_dict = {x: x**2 for x in range(10) if x % 2 == 0}\n",
    "print(f\"Evens dict: {evens_dict}\")\n",
    "\n",
    "# Set comprehension: create a set of squares for numbers 0 to 9\n",
    "squares_set = {x**2 for x in range(10)}\n",
    "print(f\"Squares set: {squares_set}\")"
   ]
  },
  {
   "cell_type": "markdown",
   "id": "a9f3d64b",
   "metadata": {},
   "source": [
    "### Exercise 2.6\n",
    "\n",
    "Given the list of numbers below, use a list comprehension to:\n",
    "\n",
    "1. Create a list of all numbers greater than 10, but store their negative values.\n",
    "2. Create a list of strings, where each string is `\"even\"` if the number is even, and `\"odd\"` if the number is odd.\n",
    "3. Create a list of tuples where each tuple contains a number and its square, but only for numbers that are multiples of 3 and greater than 10."
   ]
  },
  {
   "cell_type": "code",
   "execution_count": null,
   "id": "6ea60677",
   "metadata": {},
   "outputs": [],
   "source": [
    "numbers = [3, 8, 12, 5, 7, 14, 21, 2, 10, 17]\n",
    "\n",
    "# Your code below:"
   ]
  },
  {
   "cell_type": "markdown",
   "id": "302ee46f",
   "metadata": {},
   "source": [
    "## Catching errors\n",
    "\n",
    "Python's philosophy is to better ask for forgiveness than permission. This means that we typically just try to execute code and catch errors if they occur. This is done with the `try`-`except` pattern."
   ]
  },
  {
   "cell_type": "code",
   "execution_count": null,
   "id": "1e5d99c4",
   "metadata": {},
   "outputs": [],
   "source": [
    "dictionary_error = {'key1': 'value1', 'key2': 'value2'}\n",
    "try:\n",
    "    # Try to access a key that may not exist in the dictionary\n",
    "    print(dictionary_error['keyB'])\n",
    "except KeyError as e:\n",
    "    print(f\"KeyError occurred: {e}\")\n",
    "\n",
    "try:\n",
    "    # Try to divide by zero\n",
    "    result = 10 / 0\n",
    "except ZeroDivisionError as e:\n",
    "    print(f\"ZeroDivisionError occurred: {e}\")\n",
    "\n",
    "# Don't catch all exceptions blindly by writing `except:` or `except Exception:` or `except BaseException:`\n",
    "try:\n",
    "    value = int(\"not_a_number\")\n",
    "except ValueError as e:\n",
    "    print(f\"ValueError occurred: {e}\")"
   ]
  }
 ],
 "metadata": {
  "kernelspec": {
   "display_name": "ML4MSD-Teacher",
   "language": "python",
   "name": "python3"
  },
  "language_info": {
   "codemirror_mode": {
    "name": "ipython",
    "version": 3
   },
   "file_extension": ".py",
   "mimetype": "text/x-python",
   "name": "python",
   "nbconvert_exporter": "python",
   "pygments_lexer": "ipython3",
   "version": "3.11.9"
  }
 },
 "nbformat": 4,
 "nbformat_minor": 5
}

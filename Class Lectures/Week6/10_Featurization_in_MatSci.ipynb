{
 "cells": [
  {
   "cell_type": "markdown",
   "id": "98761867",
   "metadata": {},
   "source": [
    "# Featurization in Materials Science"
   ]
  },
  {
   "cell_type": "markdown",
   "id": "e7821e11",
   "metadata": {},
   "source": [
    "## Composition-based Featurization"
   ]
  },
  {
   "cell_type": "code",
   "execution_count": null,
   "id": "b07d66bf",
   "metadata": {},
   "outputs": [],
   "source": [
    "from elementembeddings.core import Embedding\n",
    "\n",
    "# Load the magpie data\n",
    "magpie = Embedding.load_data(\"magpie\")\n",
    "\n",
    "assert magpie is not None\n",
    "\n",
    "print(f\"The magpie representation has embeddings of dimension {magpie.dim}\")\n",
    "print(f\"The magpie representation contains these elements: \\n {magpie.element_list}\")\n",
    "print(f\"The magpie representation contains these features: \\n {magpie.feature_labels}\")"
   ]
  },
  {
   "cell_type": "markdown",
   "id": "abe82992",
   "metadata": {},
   "source": [
    "These embeddings can be used to visualize trends/groupings in the periodic table."
   ]
  },
  {
   "cell_type": "code",
   "execution_count": null,
   "id": "27c7e495",
   "metadata": {},
   "outputs": [],
   "source": [
    "from elementembeddings.plotter import dimension_plotter\n",
    "import matplotlib.pyplot as plt\n",
    "\n",
    "fig, ax = plt.subplots(1, 1, figsize=(6, 6))\n",
    "\n",
    "dimension_plotter(\n",
    "    embedding=magpie,  # type: ignore\n",
    "    reducer=\"pca\",\n",
    "    n_components=2,\n",
    "    ax=ax,\n",
    "    adjusttext=True,\n",
    ")\n",
    "ax.set_title(\"Magpie PCA\")\n",
    "ax.legend().remove()\n",
    "handles, labels = ax.get_legend_handles_labels()\n",
    "fig.legend(handles, labels, bbox_to_anchor=(1.25, 0.5), loc=\"center right\", ncol=1)\n",
    "\n",
    "fig.tight_layout()\n",
    "fig.show()"
   ]
  },
  {
   "cell_type": "markdown",
   "id": "a0ee9ffa",
   "metadata": {},
   "source": [
    "Now, let us use the embedding to create a feature vector for a composition."
   ]
  },
  {
   "cell_type": "code",
   "execution_count": null,
   "id": "7f7e760f",
   "metadata": {},
   "outputs": [],
   "source": [
    "from elementembeddings.composition import CompositionalEmbedding\n",
    "import numpy as np\n",
    "\n",
    "Fe2O3_magpie = CompositionalEmbedding(\"Fe2O3\", \"magpie\")\n",
    "Fe2O3_feature_vec = Fe2O3_magpie.feature_vector(stats=\"mean\")\n",
    "print(Fe2O3_feature_vec)\n",
    "\n",
    "Fe = CompositionalEmbedding(\"Fe\", \"magpie\")\n",
    "O = CompositionalEmbedding(\"O\", \"magpie\")\n",
    "Fe_feature_vec = Fe.feature_vector()\n",
    "O_feature_vec = O.feature_vector()\n",
    "Fe2O3_mean = (2 * Fe_feature_vec + 3 * O_feature_vec) / 5.0\n",
    "print(np.isclose(Fe2O3_feature_vec, Fe2O3_mean).all())"
   ]
  },
  {
   "cell_type": "markdown",
   "id": "9d8c3b35",
   "metadata": {},
   "source": [
    "The embedding can also be used to get a distance (or similarity) in feature space between two compositions."
   ]
  },
  {
   "cell_type": "code",
   "execution_count": null,
   "id": "02a27079",
   "metadata": {},
   "outputs": [],
   "source": [
    "print(Fe2O3_magpie.distance(\"Fe3O4\"))\n",
    "print(Fe2O3_magpie.distance(\"ZrN\"))"
   ]
  },
  {
   "cell_type": "markdown",
   "id": "ad2a536b",
   "metadata": {},
   "source": [
    "## Atomistic Featurization\n",
    "\n",
    "We will use DScribe for creating atomistic descriptors. It utilizes the Atomic Simulation Environment (ASE) which is similar to Pymatgen. We will cover this in more detail in a later lecture."
   ]
  },
  {
   "cell_type": "code",
   "execution_count": null,
   "id": "2de74c1d",
   "metadata": {},
   "outputs": [],
   "source": [
    "from dscribe.descriptors import CoulombMatrix\n",
    "from ase.build import molecule\n",
    "from ase.visualize import view\n",
    "\n",
    "# Setting up the CM descriptor\n",
    "cm = CoulombMatrix(n_atoms_max=6)\n",
    "\n",
    "methanol = molecule(\"CH3OH\")\n",
    "view(methanol)\n",
    "# Create CM output for the system\n",
    "cm_methanol = cm.create(methanol)\n",
    "\n",
    "print(cm_methanol)\n",
    "\n",
    "# Create output for multiple system\n",
    "samples = [molecule(\"H2O\"), molecule(\"NO2\"), molecule(\"CO2\")]\n",
    "coulomb_matrices = cm.create(samples)"
   ]
  },
  {
   "cell_type": "markdown",
   "id": "762bf2e6",
   "metadata": {},
   "source": [
    "Let us explore different sorting of the Coulomb matrix."
   ]
  },
  {
   "cell_type": "code",
   "execution_count": null,
   "id": "df01d047",
   "metadata": {},
   "outputs": [],
   "source": [
    "# No sorting\n",
    "cm = CoulombMatrix(n_atoms_max=6, permutation='none')\n",
    "\n",
    "cm_methanol_noperm = cm.create(methanol)\n",
    "print(methanol.get_chemical_symbols())\n",
    "print(\"in order of appearance\", cm_methanol_noperm)\n",
    "\n",
    "# Sort by Euclidean (L2) norm.\n",
    "cm = CoulombMatrix(n_atoms_max=6, permutation='sorted_l2')\n",
    "\n",
    "cm_methanol_l2 = cm.create(methanol)\n",
    "print(\"default: sorted by L2-norm\", cm_methanol_l2)\n",
    "\n",
    "# Random\n",
    "cm = CoulombMatrix(\n",
    "    n_atoms_max=6,\n",
    "    permutation='random',\n",
    "    sigma=70,\n",
    "    seed=None\n",
    ")\n",
    "\n",
    "cm_methanol_random = cm.create(methanol)\n",
    "print(\"randomly sorted\", cm_methanol_random)\n",
    "\n",
    "# Eigenspectrum\n",
    "cm = CoulombMatrix(\n",
    "    n_atoms_max=6,\n",
    "    permutation='eigenspectrum'\n",
    ")\n",
    "\n",
    "cm_methanol_eig = cm.create(methanol)\n",
    "print(\"eigenvalues\", cm_methanol_eig)"
   ]
  },
  {
   "cell_type": "markdown",
   "id": "ef3f6d04",
   "metadata": {},
   "source": [
    "For smaller molecules, zeros will be added for padding to satisfy the `n_atoms_max` size that the user set."
   ]
  },
  {
   "cell_type": "code",
   "execution_count": null,
   "id": "db186079",
   "metadata": {},
   "outputs": [],
   "source": [
    "# Zero-padding\n",
    "cm = CoulombMatrix(n_atoms_max=10)\n",
    "cm_methanol = cm.create(methanol)\n",
    "\n",
    "print(\"zero-padded\", cm_methanol)\n",
    "print(cm_methanol.shape)  # type: ignore"
   ]
  },
  {
   "cell_type": "markdown",
   "id": "e3eae4e6",
   "metadata": {},
   "source": [
    "Let us verify that the Coulomb matrix satisifies invariance to translations, rotations, and permutations."
   ]
  },
  {
   "cell_type": "code",
   "execution_count": null,
   "id": "e1cc92ab",
   "metadata": {},
   "outputs": [],
   "source": [
    "# Invariance\n",
    "cm = CoulombMatrix(\n",
    "    n_atoms_max=6,\n",
    "    permutation=\"sorted_l2\"\n",
    ")\n",
    "\n",
    "# Translation\n",
    "methanol.translate((5, 7, 9))\n",
    "cm_methanol = cm.create(methanol)\n",
    "print(cm_methanol)\n",
    "\n",
    "# Rotation\n",
    "methanol.rotate(90, 'z', center=(0, 0, 0))\n",
    "cm_methanol = cm.create(methanol)\n",
    "print(cm_methanol)\n",
    "\n",
    "# Permutation\n",
    "upside_down_methanol = methanol[::-1]\n",
    "cm_methanol = cm.create(upside_down_methanol)\n",
    "print(cm_methanol)"
   ]
  }
 ],
 "metadata": {
  "kernelspec": {
   "display_name": "ML4MSD-Teacher",
   "language": "python",
   "name": "python3"
  },
  "language_info": {
   "codemirror_mode": {
    "name": "ipython",
    "version": 3
   },
   "file_extension": ".py",
   "mimetype": "text/x-python",
   "name": "python",
   "nbconvert_exporter": "python",
   "pygments_lexer": "ipython3",
   "version": "3.11.9"
  }
 },
 "nbformat": 4,
 "nbformat_minor": 5
}
